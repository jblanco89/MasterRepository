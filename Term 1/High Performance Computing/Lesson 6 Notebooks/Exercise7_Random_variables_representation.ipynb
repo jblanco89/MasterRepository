{
 "cells": [
  {
   "cell_type": "markdown",
   "id": "certified-blackberry",
   "metadata": {},
   "source": [
    "# Ejercicio 7.Representación de los valores y las frecuencias de variables discretas con distribución uniforme."
   ]
  },
  {
   "cell_type": "markdown",
   "id": "supposed-river",
   "metadata": {},
   "source": [
    "Se genera los valores de dos variables discretas distribuidas uniformemente.\n",
    "Se quieren representar la dispersión de los valores y las frecuencias.\n",
    "Tomado de https://realpython.com/python-matplotlib-guide/"
   ]
  },
  {
   "cell_type": "markdown",
   "id": "standing-borough",
   "metadata": {},
   "source": [
    "Se crean los valores de la variable x y e la variable y  de forma aleatoria. Representan dos matrices correlacionadas."
   ]
  },
  {
   "cell_type": "code",
   "execution_count": 1,
   "id": "vertical-slave",
   "metadata": {},
   "outputs": [
    {
     "name": "stdout",
     "output_type": "stream",
     "text": [
      "[ 9  3  9  8  2  1  8  1  6  9  3  9  1  1 10  9  5  5  5  5  4  7  7 10\n",
      "  7  9  2  4  8 10  8  7 10  9  5  9  2  6  1  3  4  3 10  3  3  9  2 10\n",
      "  6 10]\n",
      "[10  7 10 12  3  3 10  3  9 11  4 13  4  3 11 12  6  8  7  9  6 11  8 13\n",
      "  8 11  3  6  9 14  9 10 14 12  9 13  4 10  2  7  6  7 14  4  7 11  6 11\n",
      "  7 11]\n"
     ]
    }
   ],
   "source": [
    "import matplotlib.pyplot as plt\n",
    "import numpy as np \n",
    "\n",
    "x = np.random.randint(low=1, high=11, size=50)\n",
    "y = x + np.random.randint(1, 5, size=x.size)\n",
    "print(x)\n",
    "print(y)\n"
   ]
  },
  {
   "cell_type": "markdown",
   "id": "early-theology",
   "metadata": {},
   "source": [
    "Se combinan los arrays en una matriz, en la que cada columna representa uno de los arrays.\n",
    "* Este método es muy bueno para añadir columnas a una matriz"
   ]
  },
  {
   "cell_type": "code",
   "execution_count": 2,
   "id": "postal-jacket",
   "metadata": {},
   "outputs": [
    {
     "name": "stdout",
     "output_type": "stream",
     "text": [
      "[[ 9 10]\n",
      " [ 3  7]\n",
      " [ 9 10]\n",
      " [ 8 12]\n",
      " [ 2  3]\n",
      " [ 1  3]\n",
      " [ 8 10]\n",
      " [ 1  3]\n",
      " [ 6  9]\n",
      " [ 9 11]\n",
      " [ 3  4]\n",
      " [ 9 13]\n",
      " [ 1  4]\n",
      " [ 1  3]\n",
      " [10 11]\n",
      " [ 9 12]\n",
      " [ 5  6]\n",
      " [ 5  8]\n",
      " [ 5  7]\n",
      " [ 5  9]\n",
      " [ 4  6]\n",
      " [ 7 11]\n",
      " [ 7  8]\n",
      " [10 13]\n",
      " [ 7  8]\n",
      " [ 9 11]\n",
      " [ 2  3]\n",
      " [ 4  6]\n",
      " [ 8  9]\n",
      " [10 14]\n",
      " [ 8  9]\n",
      " [ 7 10]\n",
      " [10 14]\n",
      " [ 9 12]\n",
      " [ 5  9]\n",
      " [ 9 13]\n",
      " [ 2  4]\n",
      " [ 6 10]\n",
      " [ 1  2]\n",
      " [ 3  7]\n",
      " [ 4  6]\n",
      " [ 3  7]\n",
      " [10 14]\n",
      " [ 3  4]\n",
      " [ 3  7]\n",
      " [ 9 11]\n",
      " [ 2  6]\n",
      " [10 11]\n",
      " [ 6  7]\n",
      " [10 11]]\n"
     ]
    }
   ],
   "source": [
    "data = np.column_stack((x, y))\n",
    "print(data)"
   ]
  },
  {
   "cell_type": "markdown",
   "id": "banned-rental",
   "metadata": {},
   "source": [
    "Se crea la figura y cada uno de sus ejes en areas separadas.\n",
    "1. En eje se crea un gráfico de dispersión con scatter en el que cada valor del conjunto de datos está representado por un punto. Las v representarán  al array x y  las y el array y. Se pondrán las etiquetas correspondientes.\n",
    "2. En el otro eje se crea el histograma de frecuencias de los valores de las variables."
   ]
  },
  {
   "cell_type": "code",
   "execution_count": 3,
   "id": "binding-circle",
   "metadata": {},
   "outputs": [
    {
     "data": {
      "image/png": "[encoded data removed]",
      "text/plain": [
       "<Figure size 800x400 with 2 Axes>"
      ]
     },
     "metadata": {},
     "output_type": "display_data"
    }
   ],
   "source": [
    "fig, (ax1, ax2) = plt.subplots(nrows=1, ncols=2,figsize=(8, 4))\n",
    "\n",
    "ax1.scatter(x=x, y=y, marker='o', c='r', edgecolor='b')\n",
    "ax1.set_title('Scatter: x versus y')\n",
    "ax1.set_xlabel('$x$')\n",
    "ax1.set_ylabel('$y$')\n",
    "\n",
    "ax2.hist(data, bins=np.arange(data.min(), data.max()),label=('x', 'y'))\n",
    "ax2.legend(loc=(0.65, 0.8))\n",
    "ax2.set_title('Frequencies of $x$ and $y$')\n",
    "ax2.yaxis.tick_right()"
   ]
  },
  {
   "cell_type": "markdown",
   "id": "blind-coverage",
   "metadata": {},
   "source": [
    "Se muestra un ejemplo de figura como resultado devuelto por plt.subplots(1, 2). De forma que se obtiene un objeto Figure y un array NumPy de objetos Axes. \n",
    "Los objetos de Axes pueden ser tratados individualmente. En la última línea se ilustra la jerarquía de objetos de esta biblioteca, porque se ha modificado el eje y que pertenece al segundo, colocando sus marcas y etiquetas a la derecha.\n"
   ]
  }
 ],
 "metadata": {
  "kernelspec": {
   "display_name": "Python 3",
   "language": "python",
   "name": "python3"
  },
  "language_info": {
   "codemirror_mode": {
    "name": "ipython",
    "version": 3
   },
   "file_extension": ".py",
   "mimetype": "text/x-python",
   "name": "python",
   "nbconvert_exporter": "python",
   "pygments_lexer": "ipython3",
   "version": "3.10.11"
  }
 },
 "nbformat": 4,
 "nbformat_minor": 5
}
