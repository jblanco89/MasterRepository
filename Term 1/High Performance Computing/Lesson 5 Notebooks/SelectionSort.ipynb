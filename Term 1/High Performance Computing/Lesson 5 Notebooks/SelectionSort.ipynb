{
 "cells": [
  {
   "cell_type": "code",
   "execution_count": 1,
   "id": "668ab69c",
   "metadata": {},
   "outputs": [
    {
     "name": "stdout",
     "output_type": "stream",
     "text": [
      "Lista ordenada:\n",
      "[0, 8, 17, 35, 36, 73]\n",
      "Tiempo: 0.000000 segundos\n",
      "Comparaciones: 15\n",
      "Lista ordenada:\n",
      "[0, 1, 2, 3, 5, 6, 8, 11, 12, 17, 18, 20, 22, 25, 27, 32, 33, 34, 35, 36, 41, 43, 44, 54, 56, 66, 67, 67, 71, 73, 87, 89, 99]\n",
      "Tiempo: 0.000000 segundos\n",
      "Comparaciones: 543\n"
     ]
    }
   ],
   "source": [
    "from time import time\n",
    "\n",
    "def ordenacionSeleccion(lista):\n",
    "    global numComparaciones\n",
    "    n = len(lista)\n",
    "\n",
    "    for i in range(n - 1):\n",
    "        minimo = i\n",
    "        \n",
    "\n",
    "        for j in range(i + 1, n):\n",
    "            numComparaciones += 1\n",
    "            if lista[j] < lista[minimo]:\n",
    "                minimo = j\n",
    "\n",
    "        lista[i], lista[minimo] = lista[minimo], lista[i]\n",
    "\n",
    "\n",
    "lista = [35, 36, 17, 73,8, 0]\n",
    "numComparaciones = 0\n",
    "\n",
    "t0 = time()\n",
    "ordenacionSeleccion(lista)\n",
    "t1 = time()\n",
    "\n",
    "print (\"Lista ordenada:\")\n",
    "print(lista)\n",
    "\n",
    "print (\"Tiempo: {0:f} segundos\".format(t1 - t0))\n",
    "print (\"Comparaciones:\", numComparaciones)\n",
    "\n",
    "lista = [35, 36, 17, 73,8, 0,27,32,1,89,34,67,2,3,20,5,6,43,99,56,12,44,67,54,33,18,22,66,41,87,71,11,25]\n",
    "\n",
    "t0 = time()\n",
    "ordenacionSeleccion(lista)\n",
    "t1 = time()\n",
    "\n",
    "print (\"Lista ordenada:\")\n",
    "print(lista)\n",
    "\n",
    "print (\"Tiempo: {0:f} segundos\".format(t1 - t0))\n",
    "print (\"Comparaciones:\", numComparaciones)\n"
   ]
  },
  {
   "cell_type": "code",
   "execution_count": null,
   "id": "fdf582b7",
   "metadata": {},
   "outputs": [],
   "source": []
  },
  {
   "cell_type": "code",
   "execution_count": null,
   "id": "0dc1efe7",
   "metadata": {},
   "outputs": [],
   "source": []
  }
 ],
 "metadata": {
  "kernelspec": {
   "display_name": "Python 3 (ipykernel)",
   "language": "python",
   "name": "python3"
  },
  "language_info": {
   "codemirror_mode": {
    "name": "ipython",
    "version": 3
   },
   "file_extension": ".py",
   "mimetype": "text/x-python",
   "name": "python",
   "nbconvert_exporter": "python",
   "pygments_lexer": "ipython3",
   "version": "3.10.9"
  }
 },
 "nbformat": 4,
 "nbformat_minor": 5
}
