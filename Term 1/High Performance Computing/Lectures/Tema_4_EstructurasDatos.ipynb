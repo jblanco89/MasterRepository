{
 "cells": [
  {
   "cell_type": "markdown",
   "id": "bridal-street",
   "metadata": {},
   "source": [
    "<img src=\"logo.png\">"
   ]
  },
  {
   "cell_type": "markdown",
   "id": "hungarian-fifth",
   "metadata": {},
   "source": [
    "# Tema  4. Estructuras de datos. Sesión 4"
   ]
  },
  {
   "cell_type": "markdown",
   "id": "stainless-alexander",
   "metadata": {},
   "source": [
    "Forma de organización de los datos\n",
    "1.\tTipo de datos\n",
    "2.  Relación  entre ellos\n",
    "3.\tOperaciones que  puede soportar\n",
    "\n",
    "Arrays, \"registros\", listas, diccionarios, conjuntos, tuplas....."
   ]
  },
  {
   "cell_type": "markdown",
   "id": "thick-hudson",
   "metadata": {},
   "source": [
    "   Nivel de abstracción. Tipo abstracto de datos\n",
    "   ------------\n"
   ]
  },
  {
   "cell_type": "markdown",
   "id": "israeli-affiliate",
   "metadata": {},
   "source": [
    "Definición de un tipo abstracto de datos \n",
    "1. Tipo de datos\n",
    "2. Estructura de datos subyacente\n",
    "3. Operaciones de manipulación\n",
    "<font color=\"blue\"><h4 >Características principales</h4></font>\n",
    "+ **Semántica de las operaciones**\n",
    "\n",
    "+ **Ocultación de información**\n",
    "\n",
    "+ **Encapsulamiento**\n"
   ]
  },
  {
   "cell_type": "markdown",
   "id": "adapted-dietary",
   "metadata": {},
   "source": [
    "<font color=\"blue\"><h3>**Nombre del TAD**</h3></font>\n",
    "**Elementos de un TAD**\n",
    "- Datos<br>\n",
    "    Descripción de la estructura de  los datos<br>\n",
    "- Operaciones<br>\n",
    "    Constructor:\tCreación de la estructura e inicialización.<br>\n",
    "\tOperaciones de consulta permitidas (<i>getters</i>).<br>\n",
    "    Operaciones de modificación permitidas(<i>setters</i>): Se debe tener  en cuenta  el \testado (precondición  y postcondición).<br>\n",
    "    Destrucción: Eliminación  de los elementos y de la estructura  de soporte.\n"
   ]
  },
  {
   "cell_type": "markdown",
   "id": "tribal-sunglasses",
   "metadata": {},
   "source": [
    "<font color=\"blue\"><h3>TAD en Python -->  Clase</h3></font>\n",
    "- Atributos (privados)\n",
    "- Métodos"
   ]
  },
  {
   "cell_type": "markdown",
   "id": "neural-genealogy",
   "metadata": {},
   "source": [
    "\n",
    "  -------------------\n"
   ]
  },
  {
   "cell_type": "markdown",
   "id": "blind-burner",
   "metadata": {},
   "source": [
    "<font color=\"blue\"><h3>TAD Lista</h3> </font>"
   ]
  },
  {
   "cell_type": "code",
   "execution_count": 1,
   "id": "efficient-jason",
   "metadata": {},
   "outputs": [],
   "source": [
    "class Lista:\n",
    "    \n",
    "    def __init__(self,tipo):\n",
    "        \"\"\"\n",
    "        Constructor\n",
    "\n",
    "        Parameters\n",
    "        ----------\n",
    "        tipo : indica el tipo de los datos de la lista\n",
    "\n",
    "        \"\"\"\n",
    "        #atributo privado, se impide el acceso a la estructura \n",
    "        self.__lista=list()\n",
    "        #el TAD lista implica que  todos los elementos sean iguales\n",
    "        self.__tipo=tipo\n",
    "    \n",
    "        \n",
    "    def copia(self,lista):\n",
    "        \"\"\"Se copian las listas en profundidad\"\"\"\n",
    "        self.__tipo=lista.__tipo\n",
    "        self.__lista=lista.__lista[:]\n",
    "        #es equivalente\n",
    "        #self.__lista=lista.copy()\n",
    "        \n",
    "    def __eq__(self,lista):\n",
    "        return self.__lista==lista.__lista\n",
    "    \n",
    "    \n",
    "    def estaVacia(self):\n",
    "        \"\"\"Operación de consulta: comprueba si está vacía\"\"\"\n",
    "        return not self.__lista\n",
    "    \n",
    "    def buscarElemento(self,elemento):\n",
    "        \"\"\"Operación de consulta: busca un elemnto en la lista, eleva una excepción si no se encuentra\"\"\"\n",
    "        try:\n",
    "            indice=self.__lista.index(elemento)\n",
    "            return  indice\n",
    "        except ValueError:\n",
    "            return None\n",
    "        \n",
    "    def obtenerPrimero(self):\n",
    "        \"\"\"Operación de consulta:Obtiene el primer elemento de la lista, eleva una excepción si esta vacía\"\"\"\n",
    "        try:\n",
    "            return self.__lista[0]\n",
    "        except IndexError:\n",
    "            return None\n",
    "        \n",
    "    def obtenerUltimo(self):\n",
    "        \"\"\"Operación de consulta:Obtiene el último elemento de la lista, eleva una excepción si esta vacía\"\"\"\n",
    "        try:\n",
    "            return self.__lista[-1]\n",
    "        except IndexError:\n",
    "            return None\n",
    "        \n",
    "    def siguiente(self,elemento):\n",
    "        \"\"\"Operación de consulta: Obtiene el elemento de la lista siguiente al proporcionado,\n",
    "        eleva una excepción si esta vacía\n",
    "        eleva una excepción si no hay  siguiente\n",
    "        \"\"\"\n",
    "        try:\n",
    "            indice=self.__lista.index(elemento)\n",
    "            return self.__lista[indice+1]\n",
    "        except ValueError:\n",
    "            return None\n",
    "        except IndexError:\n",
    "            return None\n",
    "        \n",
    "    def anterior(self,elemento):\n",
    "        \"\"\"Operación de consulta: Obtiene el elemento de la lista anterior al proporcionado,\n",
    "        eleva una excepción si esta vacía\n",
    "        eleva una excepción si no hay  anterior\n",
    "        \"\"\"\n",
    "        try:\n",
    "            indice=self.__lista.index(elemento)\n",
    "            return self.__lista[indice-1]\n",
    "        except ValueError:\n",
    "            return None\n",
    "        except IndexError:\n",
    "            return None\n",
    "        \n",
    "    def numeroElementos(self):\n",
    "        \"\"\"Operación de consulta:Devuelve el número de elemntos de la lista\"\"\"\n",
    "        return len(self.__lista)\n",
    "        \n",
    "        \n",
    "    def insertarElemento(self,elemento):\n",
    "        \"\"\"\"Operación de modificación:Inserta un elemento al final.\n",
    "        Comprueba si  el tipo del elemento introducido es el de los elementos de la lista, sino eleva una excepción\"\"\"\n",
    "        try:\n",
    "            if type(elemento)==self.__tipo:\n",
    "                self.__lista.append(elemento)\n",
    "                return\n",
    "            else: \n",
    "                raise TypeError\n",
    "        except TypeError:\n",
    "                raise\n",
    "            \n",
    "    def insertarElementoDelante(self,elemento):\n",
    "        \"\"\"\"Operación de modificación:Inserta un elemento al principio.\n",
    "        Comprueba si  el tipo del elemento introducido es el de los elementos de la lista, sino eleva una excepción\"\"\"\n",
    "        if type(elemento)==self.__tipo:\n",
    "            self.__lista.insert(0, elemento)\n",
    "            return\n",
    "        else: \n",
    "            raise TypeError\n",
    "            \n",
    "    def insertarElementoPosicion(self,elemento,posicion):\n",
    "        \"\"\"\"Operación de modificación:Inserta un elemento en una posición determinada.\n",
    "        Si la posición no existe lo inserta al final\n",
    "        Comprueba si  el tipo del elemento introducido es el de los elementos de la lista, sino eleva una excepción\"\"\"\n",
    "        if type(elemento)==self.__tipo:\n",
    "            self.__lista.insert(posicion, elemento)\n",
    "            return\n",
    "        else: \n",
    "            raise TypeError\n",
    "            \n",
    "    def eliminarElemento(self,elemento):\n",
    "        \"\"\"\"Operación de modificación:Elimina un elemento de la lista\"\"\"\n",
    "        self.__lista.remove(elemento)\n",
    "        \n",
    "    def borrar__lista(self):\n",
    "        \"\"\"\"Operación de modificación:borra todos los elementos de la lista\"\"\"\n",
    "        self.__lista.clear()\n",
    "        \n",
    "    def __str__(self):\n",
    "        \"\"\"Devuelve la lista  como una cadena\"\"\"\n",
    "        return str(self.__lista)\n"
   ]
  },
  {
   "cell_type": "markdown",
   "id": "digital-flashing",
   "metadata": {},
   "source": [
    "**Uso de la clase Lista**<br>\n",
    "Se crea una lista de enteros"
   ]
  },
  {
   "cell_type": "code",
   "execution_count": 2,
   "id": "leading-backup",
   "metadata": {},
   "outputs": [
    {
     "name": "stdout",
     "output_type": "stream",
     "text": [
      "el  tipo no es correcto\n"
     ]
    }
   ],
   "source": [
    "listaPrueba=Lista(int)\n",
    "try:\n",
    "    listaPrueba.insertarElemento(\"casa\")\n",
    "except  TypeError:\n",
    "    print(\"el  tipo no es correcto\")\n",
    "    \n",
    "    "
   ]
  },
  {
   "cell_type": "markdown",
   "id": "satisfied-poison",
   "metadata": {},
   "source": [
    "Capturando la excepcion"
   ]
  },
  {
   "cell_type": "code",
   "execution_count": 3,
   "id": "placed-finder",
   "metadata": {},
   "outputs": [
    {
     "name": "stdout",
     "output_type": "stream",
     "text": [
      "el tipo del elemento no es correcto\n",
      "[90]\n"
     ]
    }
   ],
   "source": [
    "try:\n",
    "    listaPrueba.insertarElemento(\"casa\")\n",
    "except:\n",
    "    print(\"el tipo del elemento no es correcto\") \n",
    "    listaPrueba.insertarElemento(90)\n",
    "    print(listaPrueba)"
   ]
  },
  {
   "cell_type": "markdown",
   "id": "falling-patrol",
   "metadata": {},
   "source": [
    "Intento de inserción de un elemento directamente en la estructura"
   ]
  },
  {
   "cell_type": "code",
   "execution_count": 4,
   "id": "prompt-tender",
   "metadata": {},
   "outputs": [
    {
     "ename": "AttributeError",
     "evalue": "'Lista' object has no attribute '__lista'",
     "output_type": "error",
     "traceback": [
      "\u001b[1;31m---------------------------------------------------------------------------\u001b[0m",
      "\u001b[1;31mAttributeError\u001b[0m                            Traceback (most recent call last)",
      "Cell \u001b[1;32mIn[4], line 1\u001b[0m\n\u001b[1;32m----> 1\u001b[0m \u001b[43mlistaPrueba\u001b[49m\u001b[38;5;241;43m.\u001b[39;49m\u001b[43m__lista\u001b[49m\u001b[38;5;241m.\u001b[39mappend(\u001b[38;5;241m2\u001b[39m)\n",
      "\u001b[1;31mAttributeError\u001b[0m: 'Lista' object has no attribute '__lista'"
     ]
    }
   ],
   "source": [
    "listaPrueba.__lista.append(2)"
   ]
  },
  {
   "cell_type": "markdown",
   "id": "charming-freight",
   "metadata": {},
   "source": [
    "Imprimir los elementos de la lista directamente"
   ]
  },
  {
   "cell_type": "code",
   "execution_count": 5,
   "id": "recognized-variance",
   "metadata": {},
   "outputs": [
    {
     "ename": "AttributeError",
     "evalue": "'Lista' object has no attribute '__lista'",
     "output_type": "error",
     "traceback": [
      "\u001b[1;31m---------------------------------------------------------------------------\u001b[0m",
      "\u001b[1;31mAttributeError\u001b[0m                            Traceback (most recent call last)",
      "Cell \u001b[1;32mIn[5], line 2\u001b[0m\n\u001b[0;32m      1\u001b[0m listaPrueba\u001b[38;5;241m.\u001b[39minsertarElemento(\u001b[38;5;241m3\u001b[39m)\n\u001b[1;32m----> 2\u001b[0m \u001b[38;5;28mprint\u001b[39m(\u001b[43mlistaPrueba\u001b[49m\u001b[38;5;241;43m.\u001b[39;49m\u001b[43m__lista\u001b[49m)\n",
      "\u001b[1;31mAttributeError\u001b[0m: 'Lista' object has no attribute '__lista'"
     ]
    }
   ],
   "source": [
    "\n",
    "listaPrueba.insertarElemento(3)\n",
    "print(listaPrueba.__lista)"
   ]
  },
  {
   "cell_type": "markdown",
   "id": "ethical-gasoline",
   "metadata": {},
   "source": [
    "Imprimir los elementos de la lista mediante el método __str__"
   ]
  },
  {
   "cell_type": "code",
   "execution_count": 6,
   "id": "blocked-officer",
   "metadata": {},
   "outputs": [
    {
     "name": "stdout",
     "output_type": "stream",
     "text": [
      "[90, 3]\n"
     ]
    }
   ],
   "source": [
    "print(listaPrueba)"
   ]
  },
  {
   "cell_type": "markdown",
   "id": "burning-audience",
   "metadata": {},
   "source": [
    "Varias operaciones de inserción e imprimir la lista"
   ]
  },
  {
   "cell_type": "code",
   "execution_count": 7,
   "id": "rough-oasis",
   "metadata": {},
   "outputs": [
    {
     "name": "stdout",
     "output_type": "stream",
     "text": [
      "6\n",
      "[100, 90, 3, 5, 7, 20]\n"
     ]
    }
   ],
   "source": [
    "listaPrueba.insertarElementoPosicion(5,10)\n",
    "listaPrueba.insertarElemento(7)\n",
    "listaPrueba.insertarElementoPosicion(20,10)\n",
    "listaPrueba.insertarElementoDelante(100)\n",
    "print(listaPrueba.numeroElementos())\n",
    "print(listaPrueba)"
   ]
  },
  {
   "cell_type": "markdown",
   "id": "sporting-melbourne",
   "metadata": {},
   "source": [
    "Borra la lista"
   ]
  },
  {
   "cell_type": "code",
   "execution_count": 8,
   "id": "tender-modem",
   "metadata": {},
   "outputs": [
    {
     "name": "stdout",
     "output_type": "stream",
     "text": [
      "[]\n"
     ]
    }
   ],
   "source": [
    "listaPrueba.borrar__lista()\n",
    "print(listaPrueba)"
   ]
  },
  {
   "cell_type": "markdown",
   "id": "executive-myanmar",
   "metadata": {},
   "source": [
    "Se prueba la copia"
   ]
  },
  {
   "cell_type": "code",
   "execution_count": null,
   "id": "multiple-vanilla",
   "metadata": {},
   "outputs": [],
   "source": [
    "listaDos=listaPrueba\n",
    "print(listaDos)\n",
    "print(listaPrueba)\n",
    "print(listaDos is listaPrueba)\n",
    "print(listaDos==listaPrueba)\n",
    "listaDos.insertarElemento(56)\n",
    "print(listaDos)\n",
    "print(listaPrueba)"
   ]
  },
  {
   "cell_type": "code",
   "execution_count": null,
   "id": "destroyed-latter",
   "metadata": {},
   "outputs": [],
   "source": [
    "listaTres=Lista(int)\n",
    "listaTres.copia(listaPrueba)\n",
    "print(listaTres)\n",
    "print(listaPrueba)\n",
    "print(listaTres is listaPrueba)\n",
    "print(listaTres==listaPrueba)\n",
    "listaTres.insertarElemento(100)\n",
    "print(listaTres)\n",
    "print(listaPrueba)\n",
    "print(listaTres is listaPrueba)\n",
    "print(listaTres==listaPrueba)"
   ]
  },
  {
   "cell_type": "markdown",
   "id": "analyzed-malawi",
   "metadata": {},
   "source": [
    "\n",
    "-------------\n"
   ]
  },
  {
   "cell_type": "markdown",
   "id": "plastic-estimate",
   "metadata": {},
   "source": [
    "<font color=\"blue\"><h3>TAD Pila</h3> </font>\n",
    "1.\tCreación de la pila. Se construye la estructura que la soporta. Se crea vacia.\n",
    "2.\tOperaciones de consulta:<br>\n",
    "    a.\tObtener cima de la pila: es el último elemento que entró.<br>\n",
    "    b.\tComprobar si la pila está vacía<br>\n",
    "3.\tOperaciones  de modificación:<br>\n",
    "    a.\tApilar: inserta  un elemento en  la cima de la pila (último que entró)<br>\n",
    "    b.\tDesapilar: elimina el elemento de la cima de la pila y además devuelve su valor<br>"
   ]
  },
  {
   "cell_type": "code",
   "execution_count": null,
   "id": "abroad-spectacular",
   "metadata": {},
   "outputs": [],
   "source": [
    "class Pila:\n",
    "    \"\"\"\n",
    "    TAD Pila\n",
    "    \"\"\"\n",
    "    def __init__(self,tipo):\n",
    "        \"\"\"Constructor crea atributos privados\"\"\"\n",
    "        self.__pila=list()\n",
    "        self.__tipo=tipo\n",
    "       \n",
    "    def estaVacia(self):\n",
    "        \"\"\"Operación de consulta: comprueba si la pila está vacía\"\"\"\n",
    "        return not self.__pila\n",
    "    \n",
    "    def cima(self):\n",
    "        \"\"\"Operación de consulta: devuelve la  cima de la pila\n",
    "        Eleva  una excepción si está vacía\"\"\"\n",
    "        try:\n",
    "            return self.__pila[-1]\n",
    "        except:\n",
    "            return None\n",
    "       \n",
    "            \n",
    "    def apilar(self,elemento):\n",
    "        \"\"\"Operación de modificación: inserta un elemento en la cima\n",
    "        Eleva  una excepción si el elemento no es del tipo de la pila\"\"\"\n",
    "        if type(elemento)==self.__tipo:\n",
    "                self.__pila.append(elemento)\n",
    "                return\n",
    "        else: \n",
    "                raise TypeError\n",
    "        \n",
    "    def desapilar(self):\n",
    "        \"\"\"Operación de modificación: elimina y devuelve la cima\n",
    "        Eleva  una excepción si el elemento no es del tipo de la pila\"\"\"\n",
    "        try:\n",
    "            return self.__pila.pop()\n",
    "        except:\n",
    "            None\n",
    "            \n",
    "    def __str__(self):\n",
    "        \"\"\"Convierte la pila en lista para poderla visualizar\"\"\"\n",
    "        return str(self.__pila)\n",
    "\n",
    "    #Se deja como ejercicio la implementación de la copia\n",
    "    #La igualdad no tiene sentido  en las pilas porque  no se recorren"
   ]
  },
  {
   "cell_type": "markdown",
   "id": "convertible-certificate",
   "metadata": {},
   "source": [
    "**Uso de la clase Pila**<br>"
   ]
  },
  {
   "cell_type": "code",
   "execution_count": null,
   "id": "broke-building",
   "metadata": {},
   "outputs": [],
   "source": [
    "pilaPrueba=Pila(int)\n",
    "\n",
    "pilaPrueba.apilar(5)\n",
    "pilaPrueba.apilar(7)\n",
    "pilaPrueba.apilar(10)\n",
    "print(pilaPrueba)\n",
    "print(pilaPrueba.desapilar())\n",
    "print(pilaPrueba)"
   ]
  },
  {
   "cell_type": "markdown",
   "id": "concrete-temple",
   "metadata": {},
   "source": [
    "\n",
    "---------------\n"
   ]
  },
  {
   "cell_type": "markdown",
   "id": "double-johnston",
   "metadata": {},
   "source": [
    "<font color=\"blue\"><h3>TAD Cola</h3> </font>\n",
    "1.\tCreación de la Cola. Se construye la estructura que la soporta. Se crea vacia.\n",
    "2.\tOperaciones de consulta:<br>\n",
    "    a.\tObtener primer elemento de la cola: es el primer elemento que entró.<br>\n",
    "    b.\tComprobar si la cola está vacía<br>\n",
    "3.\tOperaciones  de modificación:<br>\n",
    "    a.\tEncolar: inserta  un elemento al final de la cola<br>\n",
    "    b.\tDesencolar: elimina el primer elemento de la cola  y además devuelve su valor<br>"
   ]
  },
  {
   "cell_type": "code",
   "execution_count": null,
   "id": "beginning-petite",
   "metadata": {},
   "outputs": [],
   "source": [
    "class Cola:\n",
    "\n",
    "    def __init__(self,tipo):\n",
    "        \"\"\"Constructor crea atributos privados\"\"\"\n",
    "        self.__cola=list()\n",
    "        self.__tipo=tipo\n",
    "       \n",
    "    def estaVacia(self):\n",
    "        \"\"\"Operación de consulta: comprueba si la cola está vacía\"\"\"\n",
    "        return not self.__cola\n",
    "    \n",
    "    def primero(self):\n",
    "        \"\"\"Operación de consulta: devuelve el primer elemento de la cola\n",
    "        Eleva  una excepción si está vacía\"\"\"\n",
    "        try:\n",
    "            return self.__cola[0]\n",
    "        except:\n",
    "            return None\n",
    "       \n",
    "            \n",
    "    def encolar(self,elemento):\n",
    "        \"\"\"Operación de modificación: inserta un elemento al final\n",
    "        Eleva  una excepción si el elemento no es del tipo de la cola\"\"\"\n",
    "        if type(elemento)==self.__tipo:\n",
    "                self.__cola.append(elemento)\n",
    "                return\n",
    "        else: \n",
    "                raise TypeError\n",
    "        \n",
    "    def desencolar(self):\n",
    "        \"\"\"Operación de modificación: elimina el primer elemento\"\"\"\n",
    "        try:\n",
    "            return self.__cola.pop(0)\n",
    "        except:\n",
    "            None\n",
    "            \n",
    "    def __str__(self):\n",
    "        \"\"\"Convierte la cola en lista para poderla visualizar\"\"\"\n",
    "        return str(self.__cola)\n",
    "            \n",
    "    #Se deja como ejercicio la implementación de la función para la copia, la igualdad..."
   ]
  },
  {
   "cell_type": "markdown",
   "id": "indonesian-weekend",
   "metadata": {},
   "source": [
    "**Uso de la clase Cola**<br>"
   ]
  },
  {
   "cell_type": "code",
   "execution_count": null,
   "id": "looking-miami",
   "metadata": {},
   "outputs": [],
   "source": [
    "colaPrueba=Cola(int)\n",
    "\n",
    "colaPrueba.encolar(5)\n",
    "colaPrueba.encolar(7)\n",
    "colaPrueba.encolar(10)\n",
    "print(colaPrueba)\n",
    "print(colaPrueba.desencolar())\n",
    "print(colaPrueba)"
   ]
  }
 ],
 "metadata": {
  "kernelspec": {
   "display_name": "Python 3 (ipykernel)",
   "language": "python",
   "name": "python3"
  },
  "language_info": {
   "codemirror_mode": {
    "name": "ipython",
    "version": 3
   },
   "file_extension": ".py",
   "mimetype": "text/x-python",
   "name": "python",
   "nbconvert_exporter": "python",
   "pygments_lexer": "ipython3",
   "version": "3.10.9"
  }
 },
 "nbformat": 4,
 "nbformat_minor": 5
}
