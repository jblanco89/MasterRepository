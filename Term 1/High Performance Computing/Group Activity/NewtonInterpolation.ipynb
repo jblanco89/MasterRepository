{
 "cells": [
  {
   "cell_type": "markdown",
   "id": "d9f915b9-16a0-46a0-844a-8787ffe0e5be",
   "metadata": {},
   "source": [
    "# Método de Interpolación de Newton\n",
    "\n",
    "\n",
    "### Fundamento matemático\n",
    "\n",
    "El método de interpolación de Newton consiste en dos pasos. Primero debemos calcular una serie de coeficientes que suelen ser representados en una tabla. Segundo, obtenemos el polinomio de interpolación de Newton.\n",
    "\n",
    "El primer paso consiste en generar una tabla con n-1 columnas y n filas. Cada columna es rellenada con funciones del tipo:\n",
    "\n",
    "$$f_k(\\{x\\}_{i}^{j}) = \\frac{f(x_j) - f(x_i)}{x_j - x_i} \\ donde \\ j = i + k $$ \n",
    " El segundo paso consiste en la obtención del Polinomio de Interpolación de Newton que tiene la forma:\n",
    "\n",
    "$$p_i(x) = p_{i-1}(x) + f_i(\\{x\\}_{0}^{i}) \\prod_{j=0}^{n} (x - x_j) (\n",
    "x_i)$$\n",
    "\n",
    "### Aplicación comput\n",
    "aEn este caso, describiemos el método computacional empleado en un apartado posterior de nombre 'Método de Diferencias Divididas de Newton - Implementación'.cóptima."
   ]
  },
  {
   "cell_type": "markdown",
   "id": "1cb5055a-025e-4bdc-850b-c97c9bb0ec8f",
   "metadata": {},
   "source": [
    "## Funciones\n",
    "* $f(x) = \\sin(x)$\n",
    "\n",
    "* $f(x) = \\frac{1}{1 + 25x^2}$\n",
    "\n",
    "* $f(x) = e^{-20x^2}$"
   ]
  },
  {
   "cell_type": "markdown",
   "id": "de79496b-ce30-49dd-af51-a9f28ba36938",
   "metadata": {},
   "source": [
    "## Bibliotecas y dependencias"
   ]
  },
  {
   "cell_type": "code",
   "execution_count": null,
   "id": "fcc79166-f6d9-4301-9f22-545bc5f1c44f",
   "metadata": {},
   "outputs": [],
   "source": [
    "import time\n",
    "import numpy as np\n",
    "import pandas as pd\n",
    "import seaborn as sns\n",
    "import matplotlib.pyplot as plt\n",
    "import matplotlib.cm as cm \n",
    "from scipy.interpolate import lagrange\n",
    "from numpy.polynomial.polynomial import Polynomial\n",
    "import sympy as spy\n",
    "cmap = cm.jet"
   ]
  },
  {
   "cell_type": "markdown",
   "id": "1b71c439-5d94-4c10-930e-180de1afccd0",
   "metadata": {},
   "source": [
    "## Nodos de interpolación"
   ]
  },
  {
   "cell_type": "code",
   "execution_count": null,
   "id": "ef1298a6-a4e3-4f43-8777-5ffab3639185",
   "metadata": {},
   "outputs": [],
   "source": [
    "x_11 = np.loadtxt('nodos_11.txt', delimiter='\\t')\n",
    "x_21 = np.loadtxt('nodos_21.txt', delimiter='\\t')\n",
    "x_11_equis = np.loadtxt('nodos_equis_11.txt', delimiter='\\t')\n",
    "x_21_equis = np.loadtxt('nodos_equis_21.txt', delimiter='\\t')"
   ]
  },
  {
   "cell_type": "code",
   "execution_count": null,
   "id": "f500e020-0f7e-4a86-b291-9eccd4fe8448",
   "metadata": {},
   "outputs": [],
   "source": [
    "#Funciones de trabajo\n",
    "\n",
    "def y_1(x:np.array)->np.array:\n",
    "  '''\n",
    "  Devuelve el resultado del seno de cada elemento de x\n",
    "    y = np.sin(x)\n",
    "  inputs:\n",
    "    x (np.array): arreglo unidimensional de valores de x en radianes\n",
    "\n",
    "  return:\n",
    "    sin(x) (np.array): seno del ángulo para cada valor de x\n",
    "  '''\n",
    "  return np.sin(x)\n",
    "\n",
    "def y_2(x:np.array)->np.array:\n",
    "  '''\n",
    "  Devuelve el resultado de la expresión 1/(1+(25*x**2)) para cada elemento de x\n",
    "    y = 1/(1+(25*x**2))\n",
    "  inputs:\n",
    "    x(np.array): arreglo unidimensional de valores de x\n",
    "\n",
    "  return:\n",
    "    1/(1+(25*x**2)) (np.array): resultado de la expresión dada para cada valor de x\n",
    "  '''\n",
    "  return 1/(1+(25*x**2))\n",
    "\n",
    "def y_3(x:np.array)->np.array:\n",
    "  '''\n",
    "  Devuelve el resultado de la expresión np.exp(-20*x**2) para cada elemento de x\n",
    "    y = np.exp(-20*x**2)\n",
    "  inputs:\n",
    "    x (np.array): arreglo unidimensional de valores de x\n",
    "\n",
    "  return:\n",
    "    np.exp(-20*x**2) (np.array): resultado de la expresión para cada valor de x\n",
    "  '''\n",
    "\n",
    "  return np.exp(-20*x**2)"
   ]
  },
  {
   "cell_type": "markdown",
   "id": "f8ca288f-a280-4e28-8941-8420b419c4c8",
   "metadata": {},
   "source": [
    "### Método de Diferencias Divididas de Newton - Implementación\n",
    "\n"
   ]
  },
  {
   "cell_type": "markdown",
   "id": "9d3506f7-1a25-4616-a532-15f8b3876459",
   "metadata": {},
   "source": [
    "En la siguiente celda de ejecución podemos ver el método de diferencias de Newton implementado. Tenemos tres funciones:\n",
    "- La primera función es Newton_table, encargada de obtener la tabla de Newton asociada a un conjunto de puntos x,y; que coinciden con los nodos y el efecto de la función f(x) sobre estos\n",
    "- La segunda función es Newton_Poly, que a partir de la tabla obtenida con el método anterior permite calcular el polinomio de Newton asociado\n",
    "- Finalmente tenemos una función encargada de representar los resultados que hemos denomindado plot_results. Además, esta función calcula el error absoluto asociado al método."
   ]
  },
  {
   "cell_type": "code",
   "execution_count": null,
   "id": "51259ed9-87b1-4cd3-bccd-7c2468fef360",
   "metadata": {},
   "outputs": [],
   "source": [
    "error_dict_1 = {}\n",
    "error_dict_2 = {}\n",
    "error_dict_3 = {}\n",
    "def Newton_table(x, y):\n",
    "    n = len(x)\n",
    " \n",
    "    input_array = np.transpose(np.array([x, y]))\n",
    "    res_array= np.zeros([n, n-1])\n",
    "    res_array = np.concatenate((input_array, res_array), axis=1)\n",
    "    for j in range(2,n+2):\n",
    "        \n",
    "        for i in range(n-j+1):\n",
    "    \n",
    "            res_array[i,j] = (res_array[i+1,j-1]-res_array[i,j-1])/((x[i+j-1] - x[i]))\n",
    "            \n",
    "    return res_array\n",
    "def Newton_Poly(Newton_table):\n",
    "    x = spy.Symbol('x')\n",
    "    poly_list =[]\n",
    "    rows, n = Newton_table.shape\n",
    "    p0 = Newton_table[0,1]\n",
    "    \n",
    "    for col in range(2, n):\n",
    "        poly_str =1\n",
    "        for row in range(col-1):\n",
    "            \n",
    "            poly_str = poly_str * (x-Newton_table[row,0])\n",
    "            \n",
    "        poly_str = Newton_table[0,col]* poly_str\n",
    "        \n",
    "        p0 += poly_str\n",
    "        \n",
    "    return p0     \n",
    "\n",
    "def plot_results(x_val, y_val, poly, f, desc):\n",
    "    x = spy.Symbol('x')\n",
    "    \n",
    "    plt.plot(x_val,y_val)\n",
    "\n",
    "    x_to_eval =  array = np. arange(start=x_val[0], stop=x_val[-1], step=0.1)\n",
    "    n = len(x_to_eval)\n",
    "    \n",
    "    pol_eval = np.zeros(n)\n",
    "    for i in range(n):\n",
    "        x_i= x_to_eval[i]\n",
    "        \n",
    "        pol_eval_i = poly.evalf(subs={x:x_i})\n",
    "        pol_eval[i] = pol_eval_i\n",
    "\n",
    "    err = 0\n",
    "    for i in range(len(x_val)):\n",
    "        x_i = x_val[i]\n",
    "        \n",
    "        err = err + abs(y_val[i] - poly.evalf(subs={x:x_i}))\n",
    "    err_eval  =0   \n",
    "    for i in range(n):\n",
    "        x_i= x_to_eval[i]\n",
    "        y_eval =  f(x_i)   \n",
    "        err_eval = err_eval + abs(y_eval - poly.evalf(subs={x:x_i}))\n",
    "    plt.plot(x_to_eval, pol_eval)\n",
    "    print('El error absoluto del ajuste, en los nodos dados, es: ', err)\n",
    "    print('El error absoluto del ajuste, en el intervalo de los nodos granulado en 0.1, es: ', err_eval )\n",
    "    if f == y_1:\n",
    "        error_dict_1.update({desc:['Error en los nodos', err, 'Error en el intervalo a paso 0.1', err_eval]})\n",
    "    if f == y_2:\n",
    "        error_dict_2.update({desc:['Error en los nodos', err, 'Error en el intervalo a paso 0.1', err_eval]})\n",
    "    if f == y_3:\n",
    "        error_dict_3.update({desc:['Error en los nodos', err, 'Error en el intervalo a paso 0.1', err_eval]})"
   ]
  },
  {
   "cell_type": "code",
   "execution_count": null,
   "id": "31971460-1a6e-4a10-aa05-38543906e88c",
   "metadata": {},
   "outputs": [],
   "source": []
  },
  {
   "cell_type": "markdown",
   "id": "60c7ec4d-1278-40c8-aa69-e656bd8e79e4",
   "metadata": {},
   "source": [
    "### Función sin(x)"
   ]
  },
  {
   "cell_type": "markdown",
   "id": "f579aded-e27e-40e7-ba70-55f8c338055e",
   "metadata": {},
   "source": [
    "Cuando trabjamos con 11 nodos equiespaciados tenemos:"
   ]
  },
  {
   "cell_type": "code",
   "execution_count": null,
   "id": "fd23d4a6-7de2-407f-aa47-84672149f356",
   "metadata": {},
   "outputs": [],
   "source": [
    "x_val = x_11_equis\n",
    "y_val = y_1(x_val)"
   ]
  },
  {
   "cell_type": "code",
   "execution_count": null,
   "id": "77d7394a-bef8-4745-8ca9-8dd971911ed3",
   "metadata": {},
   "outputs": [],
   "source": [
    "%%time\n",
    "sinx_11_eq_tab = Newton_table(x_val, y_val)\n",
    "sinx_11_eq_poly = Newton_Poly(sinx_11_eq_tab)\n",
    "\n"
   ]
  },
  {
   "cell_type": "markdown",
   "id": "96b5a886-6eab-4bfa-8a19-54620cdd9552",
   "metadata": {},
   "source": [
    "Calculamos el polinomio como:"
   ]
  },
  {
   "cell_type": "markdown",
   "id": "53c7ab51-9ecb-4c62-a61f-7f1ff2696197",
   "metadata": {},
   "source": [
    "Representado los resultados:"
   ]
  },
  {
   "cell_type": "code",
   "execution_count": null,
   "id": "e7bbc009-a98f-4ba2-a841-42dd655a82f1",
   "metadata": {},
   "outputs": [],
   "source": [
    "%%time\n",
    "plot_results(x_val, y_val, sinx_11_eq_poly, y_1, 'Sin(x) 11 nodos equiespaciados')"
   ]
  },
  {
   "cell_type": "markdown",
   "id": "e1b99409-c56f-4c0d-b4ac-e6c38cdcb4b4",
   "metadata": {},
   "source": [
    "Para el caso de sin(x) con 11 nodos de Chebyshev:"
   ]
  },
  {
   "cell_type": "code",
   "execution_count": null,
   "id": "c976d2c3-edd0-42a7-9d72-b2db99e90242",
   "metadata": {},
   "outputs": [],
   "source": [
    "x_val = x_11\n",
    "y_val = y_val = y_1(x_val)"
   ]
  },
  {
   "cell_type": "code",
   "execution_count": null,
   "id": "b3c20ac7-b9c8-448a-a205-d2e3e64bac2b",
   "metadata": {},
   "outputs": [],
   "source": [
    "%%time\n",
    "sinx_11_cheby_tab = Newton_table(x_val, y_val)\n",
    "sinx_11_cheby_poly = Newton_Poly(sinx_11_eq_tab)\n"
   ]
  },
  {
   "cell_type": "code",
   "execution_count": null,
   "id": "22590418-8d3a-4b52-95f5-da380dd1abfd",
   "metadata": {},
   "outputs": [],
   "source": [
    "%%time\n",
    "plot_results(x_val, y_val, sinx_11_cheby_poly,y_1, 'Sin(x) 11 nodos de Chebyshev')"
   ]
  },
  {
   "cell_type": "code",
   "execution_count": null,
   "id": "148186d6-9a95-4630-b198-f68a8aff2e0a",
   "metadata": {},
   "outputs": [],
   "source": []
  },
  {
   "cell_type": "code",
   "execution_count": null,
   "id": "93ea7802-f6a0-4635-8407-562149967403",
   "metadata": {},
   "outputs": [],
   "source": []
  },
  {
   "cell_type": "markdown",
   "id": "505402d9-ec10-4db7-9ed3-ab99df75c7fa",
   "metadata": {},
   "source": [
    "Para el caso de 21 nodos equidistantes:"
   ]
  },
  {
   "cell_type": "code",
   "execution_count": null,
   "id": "ac37c6b5-5250-4801-9480-19509e75909a",
   "metadata": {},
   "outputs": [],
   "source": [
    "x_val = x_21_equis\n",
    "y_val = y_1(x_val)"
   ]
  },
  {
   "cell_type": "code",
   "execution_count": null,
   "id": "78d19849-3844-4d78-ab64-b1e7b1c99454",
   "metadata": {},
   "outputs": [],
   "source": []
  },
  {
   "cell_type": "code",
   "execution_count": null,
   "id": "9a096f82-c9b6-4931-a521-beaf2431a4aa",
   "metadata": {},
   "outputs": [],
   "source": [
    "%%time\n",
    "sinx_21_eq_tab = Newton_table(x_val, y_val)\n",
    "sinx_21_eq_poly = Newton_Poly(sinx_21_eq_tab)\n"
   ]
  },
  {
   "cell_type": "code",
   "execution_count": null,
   "id": "6c94c332-af4e-4d69-a672-d48ab1f555b4",
   "metadata": {},
   "outputs": [],
   "source": [
    "%%time\n",
    "plot_results(x_val, y_val, sinx_21_eq_poly, y_1, 'Sin(x) 21 nodos equiespaciados')"
   ]
  },
  {
   "cell_type": "markdown",
   "id": "4f6b344f-2966-473d-b646-c7b8f72390f0",
   "metadata": {},
   "source": [
    "Para el caso de los 21 nodos de Chebyshev:"
   ]
  },
  {
   "cell_type": "code",
   "execution_count": null,
   "id": "da3b6d6b-bd58-406b-af2a-6c69e273dc43",
   "metadata": {},
   "outputs": [],
   "source": [
    "x_val = x_21\n",
    "y_val = y_1(x_val)"
   ]
  },
  {
   "cell_type": "code",
   "execution_count": null,
   "id": "46a9ff1b-d89e-4c88-af02-9d26ad1f2b06",
   "metadata": {},
   "outputs": [],
   "source": [
    "%%time\n",
    "sinx_21_cheby_tab = Newton_table(x_val, y_val)\n",
    "sinx_21_cheby_poly = Newton_Poly(sinx_21_cheby_tab)"
   ]
  },
  {
   "cell_type": "code",
   "execution_count": null,
   "id": "fb0bd75e-b54d-41fa-8517-9ee95455fe43",
   "metadata": {},
   "outputs": [],
   "source": [
    "%%time\n",
    "plot_results(x_val, y_val, sinx_21_cheby_poly, y_1, 'Sin(x) 21 nodos de Chebyshev')"
   ]
  },
  {
   "cell_type": "markdown",
   "id": "dd988c7a-7ecc-4eba-8c19-8a307d0693bd",
   "metadata": {},
   "source": [
    "### Función $f(x) = \\frac{1}{1 + 25x^2}$\n",
    "\n"
   ]
  },
  {
   "cell_type": "markdown",
   "id": "50c340e0-f9c2-4706-8676-67d20808b3d0",
   "metadata": {},
   "source": [
    "Para 11 nodos equidistantes"
   ]
  },
  {
   "cell_type": "code",
   "execution_count": null,
   "id": "8f355d8d-e531-4317-b5a2-1d94318a628a",
   "metadata": {},
   "outputs": [],
   "source": [
    "x_val = x_11_equis\n",
    "y_val = y_2(x_val)"
   ]
  },
  {
   "cell_type": "code",
   "execution_count": null,
   "id": "3814a98c-caa3-400f-81f2-0090ba049ee5",
   "metadata": {},
   "outputs": [],
   "source": [
    "%%time\n",
    "y25_11_eq_tab = Newton_table(x_val, y_val)\n",
    "\n",
    "y25_11_eq_poly = Newton_Poly(y25_11_eq_tab)\n"
   ]
  },
  {
   "cell_type": "code",
   "execution_count": null,
   "id": "ea2b3104-56e0-40d9-b354-b3964bee3dbf",
   "metadata": {},
   "outputs": [],
   "source": [
    "%%time\n",
    "plot_results(x_val, y_val, y25_11_eq_poly, y_2, '1/(1+25x^2) 11 nodos equiespaciados')"
   ]
  },
  {
   "cell_type": "markdown",
   "id": "2a9f9871-ca88-4934-ac20-96672ab83759",
   "metadata": {},
   "source": [
    "Para el caso de 11 nodos de Chebyshev:"
   ]
  },
  {
   "cell_type": "code",
   "execution_count": null,
   "id": "49d4be2b-7720-436a-999f-762262264a7e",
   "metadata": {},
   "outputs": [],
   "source": [
    "x_val = x_11\n",
    "y_val = y_2(x_val)"
   ]
  },
  {
   "cell_type": "code",
   "execution_count": null,
   "id": "912c0090-c2db-462d-85eb-ad196d79693a",
   "metadata": {},
   "outputs": [],
   "source": [
    "%%time\n",
    "y25_11_cheby_tab = Newton_table(x_val, y_val)\n",
    "y25_11_cheby_poly = Newton_Poly(y25_11_cheby_tab)"
   ]
  },
  {
   "cell_type": "code",
   "execution_count": null,
   "id": "592397e6-bbf9-4176-99a0-0b54d732f180",
   "metadata": {},
   "outputs": [],
   "source": [
    "%%time\n",
    "plot_results(x_val, y_val, y25_11_cheby_poly, y_2,'1/(1+25x^2) 11 nodos de Chebyshev')"
   ]
  },
  {
   "cell_type": "markdown",
   "id": "4e81f7c6-4f7d-4797-83c8-4178af6e77af",
   "metadata": {},
   "source": [
    "Para el caso de 21 nodos equiespaciados:"
   ]
  },
  {
   "cell_type": "code",
   "execution_count": null,
   "id": "141ed242-2079-453c-998f-21337f6dce53",
   "metadata": {},
   "outputs": [],
   "source": [
    "x_val = x_21_equis\n",
    "y_val = y_2(x_val)"
   ]
  },
  {
   "cell_type": "code",
   "execution_count": null,
   "id": "586e800c-1688-4185-89ec-916e7edc65d8",
   "metadata": {},
   "outputs": [],
   "source": [
    "%%time\n",
    "y25_21_eq_tab = Newton_table(x_val, y_val)\n",
    "y25_21_eq_poly = Newton_Poly(y25_21_eq_tab)"
   ]
  },
  {
   "cell_type": "code",
   "execution_count": null,
   "id": "0c361956-fe3a-4d14-8a4d-919eb6c7d59f",
   "metadata": {},
   "outputs": [],
   "source": [
    "%%time\n",
    "plot_results(x_val, y_val, y25_21_eq_poly, y_2,'1/(1+25x^2) 21 nodos equiespaciados')"
   ]
  },
  {
   "cell_type": "markdown",
   "id": "3084b623-bcbb-4399-9d27-4edb14215822",
   "metadata": {},
   "source": [
    "Para el caso de 21 nodos de Chebyshev:"
   ]
  },
  {
   "cell_type": "code",
   "execution_count": null,
   "id": "47a1d4e6-b58b-4de3-a17b-64584ed4ad99",
   "metadata": {},
   "outputs": [],
   "source": [
    "x_val = x_21\n",
    "y_val = y_2(x_val)"
   ]
  },
  {
   "cell_type": "code",
   "execution_count": null,
   "id": "52e04b85-6289-42c3-a751-9a670499559e",
   "metadata": {},
   "outputs": [],
   "source": [
    "%%time\n",
    "y25_21_cheby_tab = Newton_table(x_val, y_val)\n",
    "y25_21_cheby_poly = Newton_Poly(y25_21_cheby_tab)"
   ]
  },
  {
   "cell_type": "code",
   "execution_count": null,
   "id": "271386d8-60c5-464c-9ef0-9e67fa0e2c4a",
   "metadata": {},
   "outputs": [],
   "source": [
    "%%time\n",
    "plot_results(x_val, y_val, y25_21_cheby_poly, y_2, '1/(1+25x^2) 21 nodos de Chebyshev')"
   ]
  },
  {
   "cell_type": "markdown",
   "id": "cbcf6241-6758-4251-95f7-4e9b1e7840e6",
   "metadata": {},
   "source": [
    "### Función $f(x) = e^{-20x^2}$\n"
   ]
  },
  {
   "cell_type": "markdown",
   "id": "78448ef5-1412-4899-864b-238d359aafc2",
   "metadata": {},
   "source": [
    "Para el caso de 11 nodos equidistantes:"
   ]
  },
  {
   "cell_type": "code",
   "execution_count": null,
   "id": "784aa973-e207-4c0b-84a9-cb800163365b",
   "metadata": {},
   "outputs": [],
   "source": [
    "%%time\n",
    "x_val = x_11_equis\n",
    "y_val = y_3(x_val)\n",
    "\n",
    "ye_11_eq_tab = Newton_table(x_val, y_val)\n",
    "ye_11_eq_poly = Newton_Poly(ye_11_eq_tab)\n"
   ]
  },
  {
   "cell_type": "code",
   "execution_count": null,
   "id": "d8b5c9e6-3b25-4c08-904c-60292d2b20a3",
   "metadata": {},
   "outputs": [],
   "source": [
    "%%time\n",
    "plot_results(x_val, y_val, ye_11_eq_poly, y_3, 'e^(-20*x^2) 11 nodos equiespaciados')"
   ]
  },
  {
   "cell_type": "markdown",
   "id": "7eb5a8d2-e8fc-468e-873d-c27eb88aada8",
   "metadata": {},
   "source": [
    "Para el caso de 11 nodos de Chebyshev:"
   ]
  },
  {
   "cell_type": "code",
   "execution_count": null,
   "id": "90a6ad62-c9f4-44c0-84c1-0d537460d823",
   "metadata": {},
   "outputs": [],
   "source": [
    "%%time\n",
    "x_val = x_11\n",
    "y_val = y_3(x_val)\n",
    "\n",
    "ye_11_cheb_tab = Newton_table(x_val, y_val)\n",
    "ye_11_cheb_poly = Newton_Poly(ye_11_cheb_tab)"
   ]
  },
  {
   "cell_type": "code",
   "execution_count": null,
   "id": "916b48d3-0712-415a-bc53-595285d75670",
   "metadata": {},
   "outputs": [],
   "source": [
    "%%time\n",
    "plot_results(x_val, y_val, ye_11_cheb_poly, y_3, 'e^(-20*x^2) 11 nodos de Chebyshev')"
   ]
  },
  {
   "cell_type": "markdown",
   "id": "890dd661-6775-49ea-b100-a0ebea2d8467",
   "metadata": {},
   "source": [
    "Para 21 nodos equidistantes se tiene:"
   ]
  },
  {
   "cell_type": "code",
   "execution_count": null,
   "id": "c547458c-d884-47ab-951a-de6c4e73b207",
   "metadata": {},
   "outputs": [],
   "source": [
    "%%time\n",
    "x_val = x_21_equis\n",
    "y_val = y_3(x_val)\n",
    "\n",
    "ye_21_eq_tab = Newton_table(x_val, y_val)\n",
    "ye_21_eq_poly = Newton_Poly(ye_21_eq_tab)"
   ]
  },
  {
   "cell_type": "code",
   "execution_count": null,
   "id": "e835971a-5468-4bae-add5-efb6539360ca",
   "metadata": {},
   "outputs": [],
   "source": [
    "%%time\n",
    "plot_results(x_val, y_val, ye_21_eq_poly, y_3, 'e^(-20*x^2) 21 nodos equiespaciados')"
   ]
  },
  {
   "cell_type": "markdown",
   "id": "202a1f9f-aa87-426d-af4b-02f030ed4cda",
   "metadata": {},
   "source": [
    "Para el caso de 21 nodos de Chebyshev:"
   ]
  },
  {
   "cell_type": "code",
   "execution_count": null,
   "id": "11c8cb21-4bc7-45e3-8009-eeff0d572a2d",
   "metadata": {},
   "outputs": [],
   "source": [
    "%%time\n",
    "x_val = x_21\n",
    "y_val = y_3(x_val)\n",
    "\n",
    "ye_21_cheby_tab = Newton_table(x_val, y_val)\n",
    "ye_21_cheby_poly = Newton_Poly(ye_21_cheby_tab)"
   ]
  },
  {
   "cell_type": "code",
   "execution_count": null,
   "id": "a90657fa-6cbb-4205-a872-e82529b686dd",
   "metadata": {},
   "outputs": [],
   "source": [
    "%%time\n",
    "plot_results(x_val, y_val, ye_21_cheby_poly, y_3, 'e^(-20*x^2) 21 nodos de Chebyshev')"
   ]
  },
  {
   "cell_type": "code",
   "execution_count": null,
   "id": "afae062e-bd58-4eec-9889-d94dffe2f5c5",
   "metadata": {},
   "outputs": [],
   "source": [
    "print(error_dict_1)"
   ]
  },
  {
   "cell_type": "code",
   "execution_count": null,
   "id": "1ed3666b-759f-4de7-a082-9beffb4e0514",
   "metadata": {},
   "outputs": [],
   "source": [
    "def plot_bars(error_dict):\n",
    "    \n",
    "    bar_data_nodes = []\n",
    "    bar_err_nodes = []\n",
    "    bar_data_eval = []\n",
    "    bar_err_eval = []\n",
    "    \n",
    "    for i in list(error_dict.keys()):\n",
    "        err_nodes, err, err_inter, err_eval =error_dict[i]\n",
    "        bar_data_nodes.append(i) \n",
    "        bar_data_eval.append(i)\n",
    "        bar_err_nodes.append(err)\n",
    "        bar_err_eval.append(err_eval)\n",
    "\n",
    "    \n",
    "    fig = plt.figure(figsize=(10,5))\n",
    "    plt.xticks(rotation=30)\n",
    "    plt.bar(bar_data_nodes, bar_err_nodes, color = 'blue', width = 0.2)\n",
    "    plt.xlabel('Caso a estudiar')\n",
    "    plt.ylabel('Error asociado')\n",
    "    plt.title('Comparación en los nodos')\n",
    "    plt.show()\n",
    "    fig2 = plt.figure(figsize=(10,5))\n",
    "    plt.xticks(rotation=30)\n",
    "    plt.bar(bar_data_eval, bar_err_eval, color = 'maroon', width = 0.2)\n",
    "    plt.xlabel('Caso a estudiar')\n",
    "    plt.ylabel('Error asociado')\n",
    "    plt.title('Comparación en el intervalo')\n",
    "    plt.show()\n",
    "    print('Los errores en los nodos son: ', bar_err_nodes)\n",
    "    print('Los errores en el intervalo son: ', bar_err_eval)"
   ]
  },
  {
   "cell_type": "code",
   "execution_count": null,
   "id": "f528f952-2901-4ca8-978d-cbdd9450c8b9",
   "metadata": {},
   "outputs": [],
   "source": [
    "plot_bars(error_dict_1)"
   ]
  },
  {
   "cell_type": "markdown",
   "id": "5fbd1e26-a21e-49ee-8a1c-e59887c9e0ec",
   "metadata": {},
   "source": [
    "Los que podemos comprobar para la función sin(x), es lo siguiente:\n",
    "- Evaluando solamente el error en los nodos, para 11 nodos de Chebyshev obtenemos el máximo error. Esto es probablemente debido a que el comportamient ode la función sin(x) en el intervalo a estudiar es antisimétrica, lo que facilita el cálculo sin variación en la distancia entre nodos.\n",
    "- En el caso de 21 nodos vemos que los errores son del orden del error para 11 nodos equidistantes.\n",
    "- Cuando comparamos los errores en el intervalo con los erroes en los nodos, podemos concluir que la interpolación es mejor cuando trabajamos con 21 nodos frente a 11. Además, los nodos de Chebyshev permiten una interpolación 1 orden de magnitud superior a 21 nodos equiespaciados."
   ]
  },
  {
   "cell_type": "code",
   "execution_count": null,
   "id": "1225756c-129b-42bc-8306-c75160700c95",
   "metadata": {},
   "outputs": [],
   "source": [
    "plot_bars(error_dict_2)"
   ]
  },
  {
   "cell_type": "markdown",
   "id": "0aa690e0-a3cc-4234-aa35-93b3746fee0a",
   "metadata": {},
   "source": [
    "Para la función 1/(1+25x^2) podemos concluir:\n",
    "- Los errores evaluados en los nodos dan buenos resultados, por debajo de 10e-9. Es decir que el polinomio se ajusta muy bien a los nodos a interpolar.\n",
    "- Pero además, si estudiamos el comportamiento del polinomio en todo el intervalo, comprobamos que los errores son más grandes. El mejor de todos los resultados lo proporciona Chebyshev para 21 nodos.\n",
    "- El error máximo para el intervalo se encuentra en el caso de 21 nodos equiespaciados, consecuencia del comportamiento del polinomio en los extremos del intervalo."
   ]
  },
  {
   "cell_type": "code",
   "execution_count": null,
   "id": "c0a876cc-c245-4639-8543-02c21097adf7",
   "metadata": {},
   "outputs": [],
   "source": [
    "plot_bars(error_dict_3)"
   ]
  },
  {
   "cell_type": "markdown",
   "id": "7535ed5f-08fe-4b33-a26c-d3065d9acc5e",
   "metadata": {},
   "source": [
    "Para la función e^(-20*x^2) tenemos un comportamiento similar al caso anterior:\n",
    "- El caso de 21 nodos de Chebyshev es el mejor para el intervalo, aunque la evaluación solamnete en los nodos ajustados es mejor para 11 ndoos equiespaciados y para 11 nodos de Chebyshev.\n",
    "- De nuevo, un comportamiento erroneo del polinomio en los extremos del intervalo para 21 nodos equidistantes provoca que este sea el peor polinomio de interpolación para el intervalo."
   ]
  },
  {
   "cell_type": "code",
   "execution_count": null,
   "id": "be020bf7-c08f-446a-95cd-e20d114fb46e",
   "metadata": {},
   "outputs": [],
   "source": []
  },
  {
   "cell_type": "code",
   "execution_count": null,
   "id": "380cc9df-ed96-46c3-98c2-02295280a37c",
   "metadata": {},
   "outputs": [],
   "source": []
  }
 ],
 "metadata": {
  "kernelspec": {
   "display_name": "Python 3 (ipykernel)",
   "language": "python",
   "name": "python3"
  },
  "language_info": {
   "codemirror_mode": {
    "name": "ipython",
    "version": 3
   },
   "file_extension": ".py",
   "mimetype": "text/x-python",
   "name": "python",
   "nbconvert_exporter": "python",
   "pygments_lexer": "ipython3",
   "version": "3.10.11"
  }
 },
 "nbformat": 4,
 "nbformat_minor": 5
}
