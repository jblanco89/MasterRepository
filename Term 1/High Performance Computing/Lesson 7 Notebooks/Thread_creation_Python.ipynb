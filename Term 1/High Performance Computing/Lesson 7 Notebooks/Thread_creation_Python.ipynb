{
 "cells": [
  {
   "cell_type": "markdown",
   "id": "2c28e953",
   "metadata": {},
   "source": [
    "# Ejemplo 1.  Crear hilos en Python"
   ]
  },
  {
   "cell_type": "markdown",
   "id": "beneficial-release",
   "metadata": {},
   "source": [
    "Se importa la biblioteca threading para poder crear y ejecutar hilos.  Adicionalmente se importa la bllioteca time para podder usar intervlos de tiempo para poder suspender la ejecución de los hilos por un timeppo deeterminado."
   ]
  },
  {
   "cell_type": "code",
   "execution_count": null,
   "id": "695518b6",
   "metadata": {},
   "outputs": [],
   "source": [
    "import threading\n",
    "import time\n",
    "\n",
    "class EjemploHilo(threading.Thread):\n",
    "    def __init__(self, id, retardo, rango):\n",
    "        threading.Thread.__init__(self)\n",
    "        self.id = id\n",
    "        self.retardo = retardo\n",
    "        self.rango = rango\n",
    "\n",
    "    def run(self):\n",
    "        print(f\"Hilo {self.id} iniciando.\")\n",
    "        time.sleep(self.retardo)  # Simula un trabajo con un retardo\n",
    "        suma = sum(range(1, self.rango + 1))  # Simula un trabajo de cálculo\n",
    "        print(f\"Hilo {self.id} terminado. Suma: {suma}\")\n",
    "\n",
    "# Crear y empezar los hilos con diferentes rangos de trabajo\n",
    "hilo1 = EjemploHilo(1, 2, 100)\n",
    "hilo2 = EjemploHilo(2, 4, 200)\n",
    "\n",
    "hilo1.start()\n",
    "hilo2.start()\n",
    "\n",
    "# Esperar a que ambos hilos terminen\n",
    "hilo1.join()\n",
    "hilo2.join()\n",
    "\n",
    "print(\"Fin de la demostración de hilos.\")"
   ]
  },
  {
   "cell_type": "markdown",
   "id": "c2e8ad53",
   "metadata": {},
   "source": [
    "Importaciones Necesarias: \n",
    "Se importan las bibliotecas threading y time. threading se utiliza para trabajar con hilos, y time para simular retardo en la ejecución del hilo.\n",
    "\n",
    "Definición de la Clase EjemploHilo:\n",
    "La clase EjemploHilo hereda de threading.Thread, lo que permite crear hilos personalizados.\n",
    "El método __init__ inicializa cada instancia del hilo con un id (identificador), un retardo (para simular tiempo de ejecución), y un rango (para simular una tarea de cálculo).\n",
    "El método run se sobrescribe para definir la tarea que ejecutará el hilo. Primero, simula un retardo con time.sleep(self.retardo). Luego, realiza una tarea de cálculo simple, como sumar los números dentro de un rango, y finalmente imprime que ha terminado junto con el resultado del cálculo.\n",
    "\n",
    "Creación y Ejecución de Hilos:\n",
    "Se crean dos instancias de EjemploHilo, cada una con diferentes valores de id, retardo, y rango para demostrar cómo se pueden ejecutar tareas en paralelo con diferentes cargas de trabajo.\n",
    "Se inician los hilos con el método start(), lo que causa que el método run se ejecute en un hilo separado.\n",
    "Se espera a que ambos hilos terminen su ejecución con el método join(). Esto es importante para asegurar que el programa principal espere a que todos los hilos hayan completado su trabajo antes de continuar.\n",
    "\n",
    "Finalización:\n",
    "Una vez que todos los hilos han terminado, se imprime un mensaje final para indicar el fin."
   ]
  },
  {
   "cell_type": "code",
   "execution_count": null,
   "id": "1566ac3a",
   "metadata": {},
   "outputs": [],
   "source": []
  }
 ],
 "metadata": {
  "kernelspec": {
   "display_name": "Python 3",
   "language": "python",
   "name": "python3"
  },
  "language_info": {
   "codemirror_mode": {
    "name": "ipython",
    "version": 3
   },
   "file_extension": ".py",
   "mimetype": "text/x-python",
   "name": "python",
   "nbconvert_exporter": "python",
   "pygments_lexer": "ipython3",
   "version": "3.8.8"
  }
 },
 "nbformat": 4,
 "nbformat_minor": 5
}
