{
 "cells": [
  {
   "cell_type": "markdown",
   "id": "7ea5ba1a",
   "metadata": {},
   "source": [
    "# Problemas de vivacidad"
   ]
  },
  {
   "cell_type": "markdown",
   "id": "50d60df9",
   "metadata": {},
   "source": [
    "## Interbloqueo\n",
    "Clase con todas las funciones sincronizadas"
   ]
  },
  {
   "cell_type": "code",
   "execution_count": null,
   "id": "3dd434bb",
   "metadata": {},
   "outputs": [
    {
     "name": "stdout",
     "output_type": "stream",
     "text": [
      "inicio programa\n",
      "Thread-4 obtiene valor 2\n",
      "Thread-4 obtiene valor 3\n",
      "Thread-5 obtiene valor 3\n",
      "Thread-4 pone valor 3\n"
     ]
    }
   ],
   "source": [
    "import threading\n",
    "import time\n",
    "class Celda:\n",
    "    def __init__(self, valor,cerrojo):\n",
    "        self.valor=valor\n",
    "        self.cerrojo=cerrojo\n",
    "        \n",
    "    def obtenerValor(self):\n",
    "        \n",
    "        self.cerrojo.acquire()\n",
    "        valor=self.valor\n",
    "        print(threading.currentThread().getName()+\" obtiene valor \"+str(self.valor))\n",
    "        self.cerrojo.release()\n",
    "        \n",
    "        return valor\n",
    "\n",
    "\n",
    "    def ponerValor(self, valor):\n",
    "        \n",
    "        self.cerrojo.acquire()\n",
    "        self.valor=valor\n",
    "        print(threading.currentThread().getName()+\" pone valor \"+str(valor))\n",
    "        self.cerrojo.release()\n",
    "   \n",
    "    def intercambiarValor(self, celda):\n",
    "        self.cerrojo.acquire()\n",
    "        val1=self.obtenerValor()\n",
    "        val2=celda.obtenerValor()\n",
    "        time.sleep(3)\n",
    "        self.ponerValor(val2)\n",
    "        celda.ponerValor(val1)\n",
    "        self.cerrojo.release()\n",
    "        \n",
    "        \n",
    "        \n",
    "        \n",
    "if __name__==\"__main__\":\n",
    "    cerrojo1=threading.RLock()\n",
    "    cerrojo2=threading.RLock()\n",
    "    celda1=Celda(2,cerrojo1)\n",
    "    celda2=Celda(3,cerrojo2)\n",
    "    print(\"inicio programa\")\n",
    "    thread1 = threading.Thread(target=celda1.intercambiarValor, args=(celda2,))\n",
    "    thread2 = threading.Thread(target=celda2.intercambiarValor, args=(celda1,))\n",
    "    \n",
    "    thread1.start()\n",
    "    \n",
    "    thread2.start()\n",
    "   \n",
    "    thread1.join()\n",
    "    thread2.join()\n",
    "    \n",
    "    print(\"final programa\"+str(celda1.obtenerValor())+\" \"+str(celda2.obtenerValor()))\n",
    "        \n",
    "        "
   ]
  },
  {
   "cell_type": "markdown",
   "id": "22fbcb28",
   "metadata": {},
   "source": [
    "El  problema se resuelve elminando la sincronización de la función intercambiarValor"
   ]
  },
  {
   "cell_type": "code",
   "execution_count": 1,
   "id": "141b0883",
   "metadata": {},
   "outputs": [
    {
     "name": "stdout",
     "output_type": "stream",
     "text": [
      "inicio programa\n",
      "Thread-4 obtiene valor 2\n",
      "Thread-4 obtiene valor 3\n",
      "Thread-4 pone valor 3\n",
      "Thread-4 pone valor 2\n",
      "Thread-5 obtiene valor 2\n",
      "Thread-5 obtiene valor 3\n",
      "Thread-5 pone valor 3\n",
      "Thread-5 pone valor 2\n",
      "Thread-6 obtiene valor 2\n",
      "Thread-6 obtiene valor 3\n",
      "Thread-6 pone valor 3\n",
      "Thread-6 pone valor 2\n",
      "MainThread obtiene valor 3\n",
      "MainThread obtiene valor 2\n",
      "final programa3 2\n"
     ]
    }
   ],
   "source": [
    "import threading\n",
    "import time\n",
    "class Celda:\n",
    "    def __init__(self, valor,cerrojo):\n",
    "        self.valor=valor\n",
    "        self.cerrojo=cerrojo\n",
    "        \n",
    "    def obtenerValor(self):\n",
    "        \n",
    "        self.cerrojo.acquire()\n",
    "        valor=self.valor\n",
    "        print(threading.currentThread().getName()+\" obtiene valor \"+str(self.valor))\n",
    "       \n",
    "        self.cerrojo.release()\n",
    "        return valor\n",
    "\n",
    "\n",
    "    def ponerValor(self, valor):\n",
    "        \n",
    "        self.cerrojo.acquire()\n",
    "        self.valor=valor\n",
    "        print(threading.currentThread().getName()+\" pone valor \"+str(valor))\n",
    "        self.cerrojo.release()\n",
    "   \n",
    "    def intercambiarValor(self, celda):\n",
    "        \n",
    "        val1=self.obtenerValor()\n",
    "        val2=celda.obtenerValor()\n",
    "        \n",
    "        self.ponerValor(val2)\n",
    "        celda.ponerValor(val1)\n",
    "        \n",
    "        \n",
    "        \n",
    "        \n",
    "        \n",
    "if __name__==\"__main__\":\n",
    "    cerrojo1=threading.RLock()\n",
    "    cerrojo2=threading.RLock()\n",
    "    celda1=Celda(2,cerrojo1)\n",
    "    celda2=Celda(3,cerrojo2)\n",
    "    print(\"inicio programa\")\n",
    "    thread1 = threading.Thread(target=celda1.intercambiarValor, args=(celda2,))\n",
    "    thread2 = threading.Thread(target=celda2.intercambiarValor, args=(celda1,))\n",
    "    thread3 = threading.Thread(target=celda1.intercambiarValor, args=(celda2,))\n",
    "    thread1.start()\n",
    "    \n",
    "    thread2.start()\n",
    "    thread3.start()\n",
    "   \n",
    "    thread1.join()\n",
    "    thread2.join()\n",
    "    thread3.join()\n",
    "    \n",
    "    print(\"final programa\"+str(celda1.obtenerValor())+\" \"+str(celda2.obtenerValor()))\n",
    "        \n",
    "        "
   ]
  },
  {
   "cell_type": "markdown",
   "id": "18ed38b4",
   "metadata": {},
   "source": [
    "## Monitores anidados"
   ]
  },
  {
   "cell_type": "code",
   "execution_count": null,
   "id": "bf6d85a3",
   "metadata": {},
   "outputs": [
    {
     "name": "stdout",
     "output_type": "stream",
     "text": [
      "inicio programa\n"
     ]
    }
   ],
   "source": [
    "import threading\n",
    "class Interna:\n",
    "    def __init__(self,condicion):\n",
    "        self.condicion=condicion\n",
    "        \n",
    "    def esperarCondicion(self):\n",
    "        with self.condicion:\n",
    "            self.condicion.wait()\n",
    "                \n",
    "    def liberarCondicion(self):\n",
    "        with self.condicion:\n",
    "            self.condicion.notifyAll()\n",
    "            \n",
    "class Externa:\n",
    "    def __init__(self,cerrojo,objetoInterno):\n",
    "        self.objetoInterno=objetoInterno\n",
    "        self.cerrojo=cerrojo\n",
    "        \n",
    "    def esperar(self):\n",
    "        with self.cerrojo:\n",
    "            self.objetoInterno.esperarCondicion()\n",
    "        \n",
    "    def liberar(self):\n",
    "        with self.cerrojo:\n",
    "            self.objetoInterno.liberarCondicion()\n",
    "            \n",
    "if __name__==\"__main__\":\n",
    "    cerrojo=threading.Lock()\n",
    "    condicion=threading.Condition()\n",
    "    objInterno=Interna(condicion)\n",
    "    objExterno=Externa(cerrojo,objInterno)\n",
    "    print(\"inicio programa\")\n",
    "    thread1 = threading.Thread(target=objExterno.esperar)\n",
    "    thread2 = threading.Thread(target=objExterno.liberar)\n",
    "    \n",
    "    thread1.start()\n",
    "    \n",
    "    thread2.start()\n",
    "   \n",
    "    thread1.join()\n",
    "    thread2.join()\n",
    "    \n",
    "    print(\"final programa\")\n",
    "        \n",
    "            "
   ]
  }
 ],
 "metadata": {
  "kernelspec": {
   "display_name": "Python 3",
   "language": "python",
   "name": "python3"
  },
  "language_info": {
   "codemirror_mode": {
    "name": "ipython",
    "version": 3
   },
   "file_extension": ".py",
   "mimetype": "text/x-python",
   "name": "python",
   "nbconvert_exporter": "python",
   "pygments_lexer": "ipython3",
   "version": "3.8.8"
  }
 },
 "nbformat": 4,
 "nbformat_minor": 5
}
