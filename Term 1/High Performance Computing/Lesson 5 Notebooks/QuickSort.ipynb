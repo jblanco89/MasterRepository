{
 "cells": [
  {
   "cell_type": "code",
   "execution_count": 5,
   "id": "db26a0d8",
   "metadata": {},
   "outputs": [
    {
     "name": "stdout",
     "output_type": "stream",
     "text": [
      "Lista ordenada:\n",
      "[350, 105, 73, 36, 17, 0]\n",
      "Tiempo: 0.000000 segundos\n"
     ]
    }
   ],
   "source": [
    "#!/usr/bin/env python3\n",
    "# -*- coding: utf-8 -*-\n",
    "\"\"\"\n",
    "Created on Sat Mar 20 21:04:29 2021\n",
    "\n",
    "@author: jesuscigales\n",
    "\"\"\"\n",
    "from time import time\n",
    "\n",
    "\n",
    "\n",
    "def obtenerPivote(lista,comparacion):\n",
    "   \n",
    "    \"\"\"Calcula el pivote de la lista. Se puede cambiar el criterio de comparacion\n",
    "    pParÃ¡metros:\n",
    "        lista -- lista de la que se obtiene el pivote\n",
    "        comparaciÃ³n --este es un parametro de tipo funciÃ³n para cambiar el criterio de comparaciÃ³n\n",
    "    \"\"\"\n",
    "    \n",
    "    pivote = lista[0]\n",
    "    i=0\n",
    "    j=len(lista)-1\n",
    "\n",
    "    while i<j:\n",
    "      \n",
    "        while comparacion(lista[i],pivote) and i<j:\n",
    "            i+=1\n",
    "            \n",
    "        while not comparacion(lista[j],pivote) and j>=0:\n",
    "            j-=1\n",
    "            \n",
    "        if i<j:\n",
    "           \n",
    "            lista[j],lista[i]=lista[i],lista[j]\n",
    "    lista[0]=lista[j]\n",
    "    lista[j]=pivote\n",
    "\n",
    "    return j\n",
    "\t\n",
    "                      \n",
    "\n",
    "def quicksort(lista,comparacion):\n",
    "    if len(lista)==0:\n",
    "        return lista\n",
    "    elif len(lista)==1:\n",
    "        return lista\n",
    "    else:\n",
    "        l=obtenerPivote(lista,comparacion)\n",
    "        l+=1\n",
    "        menores=lista[:l]\n",
    "        mayores=lista[l:]\n",
    "        \n",
    "       \n",
    "        lista=quicksort(menores,comparacion)+quicksort(mayores,comparacion)\n",
    "        return lista\n",
    "\n",
    "       \n",
    "    \t\n",
    "def  comparacion(elemLista, x):\n",
    "     return elemLista>=x\n",
    "    \n",
    "    \n",
    "\n",
    "lista = [350, 36, 17, 73,105, 0]\n",
    "\n",
    "t0 = time()\n",
    "lista=quicksort(lista,comparacion)\n",
    "\n",
    "t1 = time()\n",
    "\n",
    "\n",
    "print (\"Lista ordenada:\")\n",
    "print (lista)\n",
    "print (\"Tiempo: {0:f} segundos\".format(t1 - t0))"
   ]
  },
  {
   "cell_type": "code",
   "execution_count": null,
   "id": "ace019fe",
   "metadata": {},
   "outputs": [],
   "source": []
  }
 ],
 "metadata": {
  "kernelspec": {
   "display_name": "Python 3 (ipykernel)",
   "language": "python",
   "name": "python3"
  },
  "language_info": {
   "codemirror_mode": {
    "name": "ipython",
    "version": 3
   },
   "file_extension": ".py",
   "mimetype": "text/x-python",
   "name": "python",
   "nbconvert_exporter": "python",
   "pygments_lexer": "ipython3",
   "version": "3.10.11"
  }
 },
 "nbformat": 4,
 "nbformat_minor": 5
}
