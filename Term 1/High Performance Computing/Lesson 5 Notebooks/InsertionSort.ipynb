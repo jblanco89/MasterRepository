#!/usr/bin/env python
# coding: utf-8

# In[1]:


#!/usr/bin/env python3
# -*- coding: utf-8 -*-
"""
Created on Sat Mar 20 18:42:45 2021

@author: jesuscigales
"""
from time import time

def ordenacionInsercion(lista,comparacion):
    n = len(lista)
    global numComparaciones

    for i in range(1, n):
        val = lista[i]
        j = i
 
        while j > 0 and comparacion(lista[j-1] , val):
       
            lista[j] = lista[j-1]
            j -= 1
            numComparaciones += 1
        
        lista[j] = val

""" Esta funciÃ³n permite cambiar el criterio de ordenacion"""
def comparar(e,x):
    return e<x

lista = [35, 36, 17, 73,8, 0]
numComparaciones = 0

t0 = time()
ordenacionInsercion(lista,comparar)
t1 = time()

print ("Lista ordenada:")
print(lista)
print ("Tiempo: {0:f} segundos".format(t1 - t0))
print ("Comparaciones:", numComparaciones)



# In[ ]:




