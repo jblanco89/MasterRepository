{
 "cells": [
  {
   "cell_type": "code",
   "execution_count": 3,
   "id": "6e09e438",
   "metadata": {},
   "outputs": [
    {
     "name": "stdout",
     "output_type": "stream",
     "text": [
      "Lista ordenada:\n",
      "[0, 1, 10, 17, 36, 73, 105, 350]\n",
      "Tiempo: 0.000000 segundos\n",
      "Comparaciones: 24\n"
     ]
    }
   ],
   "source": [
    "from time import time\n",
    "import math\n",
    "\n",
    "def mergeSort(lista):\n",
    "    if len(lista) <= 1:\n",
    "        return lista\n",
    "\n",
    "    medio = len(lista) // 2\n",
    "    izquierda = lista[:medio]\n",
    "    derecha = lista[medio:]\n",
    "    \n",
    "    izquierda = mergeSort(izquierda)\n",
    "    derecha = mergeSort(derecha)\n",
    "\n",
    "    return merge(izquierda, derecha)\n",
    "\n",
    "def merge(listaA, listaB):\n",
    "    global numComparaciones\n",
    "    \n",
    "    lista = [math.inf for _ in range(len(listaA)+len(listaB))]\n",
    "    listaA.append(math.inf)\n",
    "    listaB.append(math.inf)\n",
    "    \n",
    "    i=0\n",
    "    j=0\n",
    "   \n",
    "    for k in range(0,len(lista)):\n",
    "        numComparaciones+=1\n",
    "\n",
    "        if listaA[i]<listaB[j]:\n",
    "            lista[k]=listaA[i]\n",
    "            i+=1\n",
    "        else:\n",
    "            lista[k]=listaB[j]\n",
    "            j+=1\n",
    "\n",
    "    return lista\n",
    "\n",
    "\n",
    "# lista = [35, 36, 17, 73,8, 0]\n",
    "lista = [350, 36, 17, 73,105, 0, 1, 10]\n",
    "numComparaciones = 0\n",
    "\n",
    "t0 = time()\n",
    "lista = mergeSort(lista)\n",
    "t1 = time()\n",
    "\n",
    "print (\"Lista ordenada:\")\n",
    "print(lista)\n",
    "print (\"Tiempo: {0:f} segundos\".format(t1 - t0))\n",
    "print (\"Comparaciones:\", numComparaciones)\n"
   ]
  },
  {
   "cell_type": "code",
   "execution_count": null,
   "id": "4e57fec0",
   "metadata": {},
   "outputs": [],
   "source": []
  }
 ],
 "metadata": {
  "kernelspec": {
   "display_name": "Python 3 (ipykernel)",
   "language": "python",
   "name": "python3"
  },
  "language_info": {
   "codemirror_mode": {
    "name": "ipython",
    "version": 3
   },
   "file_extension": ".py",
   "mimetype": "text/x-python",
   "name": "python",
   "nbconvert_exporter": "python",
   "pygments_lexer": "ipython3",
   "version": "3.10.11"
  }
 },
 "nbformat": 4,
 "nbformat_minor": 5
}
