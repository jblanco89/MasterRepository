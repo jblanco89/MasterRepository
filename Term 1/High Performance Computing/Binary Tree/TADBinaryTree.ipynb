{
 "cells": [
  {
   "attachments": {},
   "cell_type": "markdown",
   "id": "bridal-street",
   "metadata": {},
   "source": [
    "<img src=\"logo.png\">\n",
    "Jesús Cigales Canga"
   ]
  },
  {
   "cell_type": "markdown",
   "id": "hungarian-fifth",
   "metadata": {},
   "source": [
    "\n",
    "# Árbol binario ordenado"
   ]
  },
  {
   "cell_type": "markdown",
   "id": "stainless-alexander",
   "metadata": {},
   "source": [
    "La estructura es:\n",
    "1.\tTiene un nodo raíz, si no está vacío\n",
    "2.\tCada nodo interno tiene dos hijos. \n",
    "3.\tLos dos hijos son a su  vez árboles binarios ordenados (definición recursiva)"
   ]
  },
  {
   "cell_type": "markdown",
   "id": "residential-burning",
   "metadata": {},
   "source": [
    "<h3> Operaciones árbol binario ordenado</h3>\n",
    "1.\tCreación del arbol. Se construye un árbol vacío.<br>\n",
    "2.\tOperaciones de consulta. <br>\n",
    "    - Obtener la raíz del árbol<br>\n",
    "    - Comprobar si esta  vacío<br>\n",
    "    - Obtener hijo  izquierdo e hijo  derecho<br>\n",
    "    - Comprobar  si  esta ordenado  (si solo se permite la inserción ordenada puede que no sea necesaria)<br>\n",
    "    - Numero de elementos del árbol<br>\n",
    "3.\tOperaciones de inserción. <br>\n",
    "    - Insertar en orden<br>\n",
    "4.\tOperaciones de eliminación. <br>\n",
    "    - Borrar un elemento del árbol<br>\n",
    "    - Borrar  el árbol completo<br>\n",
    "5.\tRecorridos del árbol<br>\n",
    "    - Recorrido  en preorden(no tiene mucho sentido en un árbol ordenado)<br>\n",
    "    - Recorrido en inorden<br>\n",
    "    - Recorrido en  postorden(no tiene mucho sentido en un árbol ordenado)<br>\n"
   ]
  },
  {
   "cell_type": "markdown",
   "id": "multiple-professor",
   "metadata": {},
   "source": [
    "Se realizar la definición  como tipo abstracto de datos. \n",
    "* No se han ocultado los atributos por simplificar la implementación pero sería lo adecuado.\n",
    "El constructor creará un arbol vacío. Como se puede observar, tanto la raiz como los hijos no estan creados.<br>\n",
    "<font color=\"red\">¡Importante!. El código se explica celda por celda, pero para probarlas  se debe cargar la clase completa al final  en una única celda</font>"
   ]
  },
  {
   "cell_type": "code",
   "execution_count": 3,
   "id": "therapeutic-seminar",
   "metadata": {},
   "outputs": [],
   "source": [
    " class ArbolBinarioOrdenado:\n",
    "    \n",
    "    def __init__(self):\n",
    "        \"\"\"constructor, los atributos no son privados\"\"\"\n",
    "        self._raiz=None\n",
    "        self._arbolIzdo=None\n",
    "        self._arbolDcho=None\n",
    "        \n",
    "        \n",
    "    def raiz(self):\n",
    "        \"\"\"Operacción de consulta: funcion que devuelve la raiz\"\"\"\n",
    "        return self._raiz\n",
    "    \n",
    "   \n",
    "    def arbolIzdo(self):\n",
    "        \"\"\"Operación de consulta: devuelve el subarbol izquierdo\"\"\"\n",
    "        return self._arbolIzdo\n",
    "    \n",
    "    def arbolDcho(self):\n",
    "        \"\"\"Operación de consulta: devuelve el subarbol derecho\"\"\"\n",
    "        return self._arbolDcho   \n",
    "    \n",
    "    def estaVacio(self):\n",
    "        \"\"\"Operación de consulta: devuelve el subarbol derecho\"\"\"\n",
    "        return self._raiz==None"
   ]
  },
  {
   "cell_type": "markdown",
   "id": "tired-matthew",
   "metadata": {},
   "source": [
    "Para poder entender la implementación del resto de funciones, se definirá ahora la función  de inserción  de un elemento en un árbol"
   ]
  },
  {
   "cell_type": "markdown",
   "id": "postal-evanescence",
   "metadata": {},
   "source": [
    "  <h3>Operación de inserción de un elemento en  el árbol</h3>"
   ]
  },
  {
   "cell_type": "code",
   "execution_count": 11,
   "id": "judicial-primary",
   "metadata": {},
   "outputs": [],
   "source": [
    "    def insertarElem(self,elemento):\n",
    "        \"\"\"Operación de inserción, se inserta el elemento  de forma ordenada\"\"\"\n",
    "        if self.estaVacio():\n",
    "            self._raiz=elemento\n",
    "            self._arbolIzdo=ArbolBinarioOrdenado()\n",
    "            self._arbolDcho=ArbolBinarioOrdenado()\n",
    "        elif elemento<=self._raiz:\n",
    "            self._arbolIzdo.insertarElem(elemento)\n",
    "        else:\n",
    "            self._arbolDcho.insertarElem(elemento)      "
   ]
  },
  {
   "cell_type": "markdown",
   "id": "soviet-alabama",
   "metadata": {},
   "source": [
    "<h4>Explicación:</h4>\n",
    "La operación inserta el elemento de forma ordenada en el árbol.<br>\n",
    "Contempla los siguientes casos:<br>\n",
    "1. Si el árbol esta vacío crea el elemento raiz dándole el valor correspondiente  y  se crean los subarboles vacíos al invocar al constructor de la clase.<br>\n",
    "2. Si no está vacío y el valor del elemento es menor o igual que el de la raiz, se invoca recursivamente a la función para insertarlo en el subarbol izquierdo( se supone quepue haber elementos duplicados)<br>\n",
    "3. Si no está vacío y el valor del elemento es mayor que el de la raiz, se invoca recursivamente a la función para insertarlo en el subarbol derecho.<br>"
   ]
  },
  {
   "cell_type": "markdown",
   "id": "organized-apartment",
   "metadata": {},
   "source": [
    "Se sigue  con la implementación del resto de operaciones de consulta"
   ]
  },
  {
   "cell_type": "markdown",
   "id": "increasing-japan",
   "metadata": {},
   "source": [
    "<h3>Operación que devuelve el número de elementos de un árbol</h3>"
   ]
  },
  {
   "cell_type": "code",
   "execution_count": 12,
   "id": "duplicate-witness",
   "metadata": {},
   "outputs": [],
   "source": [
    "    def numElementos(self):\n",
    "        \"\"\"Operación de consulta: Devuelve el númerro de elementos que hay en el árbol\"\"\"\n",
    "        if self.estaVacio():\n",
    "            return 0\n",
    "        else:\n",
    "            return 1+self._arbolIzdo.numElementos()+self._arbolDcho.numElementos()"
   ]
  },
  {
   "cell_type": "markdown",
   "id": "promising-lease",
   "metadata": {},
   "source": [
    "Se puede observar que gracias a la definición recursiva del árbol, el cálculo del número  total de  elementos es la suma del número de elementos de los subarboles + 1 del elemento raíz"
   ]
  },
  {
   "cell_type": "markdown",
   "id": "institutional-studio",
   "metadata": {},
   "source": [
    "   <h3>Operación que comprueba si existe  un elemento en el árbol</h3>"
   ]
  },
  {
   "cell_type": "code",
   "execution_count": 14,
   "id": "recorded-devil",
   "metadata": {},
   "outputs": [],
   "source": [
    "def tieneElemento(self,elemento):\n",
    "    \"\"\"Operación de consulta: Comprueba si existe un  elemento en el árbol\"\"\"\n",
    "    if self.estaVacio():\n",
    "        return False\n",
    "    elif self._raiz==elemento:\n",
    "        return True\n",
    "    elif elemento<self._raiz:\n",
    "        return self._arbolIzdo.tieneElemento(elemento)\n",
    "    else:\n",
    "        return self._arbolDcho.tieneElemento(elemento)"
   ]
  },
  {
   "cell_type": "markdown",
   "id": "tender-qualification",
   "metadata": {},
   "source": [
    "Si el elemento no está en la raiz se busca en el subarbol izquierdo o derecho según si el valor que se busca es menor o mayor que el de la raíz.\n",
    "Si el árbol está vacío o el elemento no esta se devuelve False"
   ]
  },
  {
   "cell_type": "markdown",
   "id": "roman-lightning",
   "metadata": {},
   "source": [
    "<h3>Función  que elimina todos los elementos del árbol</h3>"
   ]
  },
  {
   "cell_type": "code",
   "execution_count": 15,
   "id": "professional-garden",
   "metadata": {},
   "outputs": [],
   "source": [
    "def eliminarArbol(self):\n",
    "    \"\"\"Operación de eliminación\"\"\"\n",
    "    if not self.estaVacio():\n",
    "        self._arbolIzdo.eliminarArbol()\n",
    "        self._arbolDcho.eliminarArbol()\n",
    "        self._raiz=None"
   ]
  },
  {
   "cell_type": "markdown",
   "id": "conventional-watch",
   "metadata": {},
   "source": [
    "Se eliminan los subarboles invocando a la función de forma recursiva y se pone la raiz a None"
   ]
  },
  {
   "cell_type": "markdown",
   "id": "answering-london",
   "metadata": {},
   "source": [
    "\n",
    "---------------------------------------------------------------------------------------------------------------\n"
   ]
  },
  {
   "cell_type": "markdown",
   "id": "exposed-monthly",
   "metadata": {},
   "source": [
    "<h3>Recorridos del árbol</h3>\n",
    "Se implementa el recorrido del árbol en inroden que es el que devueve los valores del árbol de forma ordenada  por la forma de construcción del árbol. Los demás recorridos no tienen sentido en un árbol ordenado, pero se pueden ver en  el tema del aula virtual."
   ]
  },
  {
   "cell_type": "markdown",
   "id": "breeding-sweden",
   "metadata": {},
   "source": [
    "<h3> Recorrido en inorden</h3>"
   ]
  },
  {
   "cell_type": "code",
   "execution_count": 23,
   "id": "failing-passport",
   "metadata": {},
   "outputs": [],
   "source": [
    "    def inOrden(self):\n",
    "        \"\"\"Recorrido en inorden, hijo izdo, raiz, hijo derecho\"\"\"\n",
    "        l=[]\n",
    "        if not self._arbolIzdo.estaVacio():\n",
    "            l+=self._arbolIzdo.inOrden()\n",
    "        l.append(self._raiz)\n",
    "        if not self._arbolDcho.estaVacio():\n",
    "            l+=self._arbolDcho.inOrden()\n",
    "            \n",
    "        return l"
   ]
  },
  {
   "cell_type": "markdown",
   "id": "published-penny",
   "metadata": {},
   "source": [
    "Se construye la lista llamado recursivamente a la función que recorre en inorden el subarbol izquierdo, a la lista que devuelve se le inserta  la raiz y  luego se une  la lista que  se obtiene al recorrer en inorden el arbol derecho."
   ]
  },
  {
   "cell_type": "markdown",
   "id": "streaming-metallic",
   "metadata": {},
   "source": [
    "<h3>Función que elimina un  elemento del árbol</h3>\n",
    "Se verá ahora la función  que  elimina un elemento del árbol. Para ello es necesario definir unas funciones auxiliares que facilitan la  implementación de la función debido a su complejidad. Estas funciones deberían ser \"privadas\"."
   ]
  },
  {
   "cell_type": "markdown",
   "id": "surgical-glance",
   "metadata": {},
   "source": [
    "   <h4>Función que devuelve el número de hijos de un nodo</h4>"
   ]
  },
  {
   "cell_type": "code",
   "execution_count": 18,
   "id": "timely-circular",
   "metadata": {},
   "outputs": [],
   "source": [
    "def numHijos(self):\n",
    "        if not self._arbolIzdo.estaVacio() and not self._arbolDcho.estaVacio():\n",
    "            return 2\n",
    "        else:\n",
    "            return 1"
   ]
  },
  {
   "cell_type": "markdown",
   "id": "electronic-steering",
   "metadata": {},
   "source": [
    "   <h4>Función que  comprueba si un nodo tiene hijos</h4>"
   ]
  },
  {
   "cell_type": "code",
   "execution_count": 20,
   "id": "protected-combination",
   "metadata": {},
   "outputs": [],
   "source": [
    "def noTieneHijos(self):\n",
    "        return self._arbolIzdo.estaVacio() and self._arbolDcho.estaVacio()"
   ]
  },
  {
   "cell_type": "markdown",
   "id": "outside-london",
   "metadata": {},
   "source": [
    "   <h4>Función que devuelve el hijo único de un nodo que tiene solo un hijo</h4>"
   ]
  },
  {
   "cell_type": "code",
   "execution_count": null,
   "id": "finite-material",
   "metadata": {},
   "outputs": [],
   "source": [
    "def hijoUnico(self):\n",
    "        return self._arbolIzdo if self._arbolDcho.estaVacio() else self._arbolDcho"
   ]
  },
  {
   "cell_type": "markdown",
   "id": "wrong-cabin",
   "metadata": {},
   "source": [
    "Se usa  el operador ternario  que devuelve  el  hijo  izquierddo o  el derecho dependiendo del que no es vacío"
   ]
  },
  {
   "cell_type": "markdown",
   "id": "honey-general",
   "metadata": {},
   "source": [
    "   <h4>Función que obtiene el  hijo más a la izquierda de un nodo</h4>"
   ]
  },
  {
   "cell_type": "code",
   "execution_count": 5,
   "id": "functioning-beijing",
   "metadata": {},
   "outputs": [],
   "source": [
    "def obtenerMasIzda(self,padre):\n",
    "        \n",
    "        if not self._arbolIzdo.estaVacio():\n",
    "            \n",
    "            return self._arbolIzdo.obtenerMasIzda(self._arbolIzdo)\n",
    "\n",
    "        return [self,padre]"
   ]
  },
  {
   "cell_type": "markdown",
   "id": "active-union",
   "metadata": {},
   "source": [
    "Aplica recursivamente la función en los hijos izquierdos hasta que encuentra el que ya no tiene más hijos izquierdos y lo devuelve."
   ]
  },
  {
   "cell_type": "markdown",
   "id": "antique-sense",
   "metadata": {},
   "source": [
    "   <h4>Función que elimina un nodo con  dos  hijos</h4>"
   ]
  },
  {
   "cell_type": "code",
   "execution_count": 21,
   "id": "specified-assumption",
   "metadata": {},
   "outputs": [],
   "source": [
    "def eliminarRaizConDosHijos(self):\n",
    "       \n",
    "        aux=self._arbolDcho.obtenerMasIzda(self)\n",
    "       \n",
    "        \n",
    "        if not aux[0].estaVacio():\n",
    "            \n",
    "            self._raiz=aux[0]._raiz\n",
    "            \n",
    "            aux[0].eliminarElem(aux[0]._raiz,aux[1])"
   ]
  },
  {
   "cell_type": "markdown",
   "id": "parental-joseph",
   "metadata": {},
   "source": [
    "El valor del nodo  que se va a eliminar será reemplazado por el valor del nodo más a la izquierda de su hijo derecho. Este valor será el  más pequeño de los mayores que  es el valor siguiente en  el orden. El nodo que  se eliminará será el que  se ha usado para reemplazar el valor invocando a la función eliminar."
   ]
  },
  {
   "cell_type": "markdown",
   "id": "level-hybrid",
   "metadata": {},
   "source": [
    "<img src=\"arbolbinario.jpg\" width=\"500\">"
   ]
  },
  {
   "cell_type": "markdown",
   "id": "liquid-momentum",
   "metadata": {},
   "source": [
    "   <h3>Operación que elimina un elemento de una lista</h3>\n",
    "   Invoca a las funciones anteriores según  la posición y  los hijos que tenga el nodo que se va a eliminar"
   ]
  },
  {
   "cell_type": "code",
   "execution_count": 27,
   "id": "changing-defendant",
   "metadata": {},
   "outputs": [],
   "source": [
    "def eliminarElem(self,elemento,padre=None):\n",
    "        \n",
    "        if not self.estaVacio():\n",
    "            \n",
    "            if self._raiz==elemento:\n",
    "              \n",
    "                if self.noTieneHijos():\n",
    "                   \n",
    "                    if padre==None:\n",
    "                        self._raiz=None\n",
    "                    elif  padre._arbolIzdo._raiz==elemento:\n",
    "                        padre._arbolIzdo._raiz=None\n",
    "                    else:\n",
    "                        padre._arbolDcho._raiz=None\n",
    "                elif self.numHijos()==1:\n",
    "                     \n",
    "                     \n",
    "                    if padre._arbolIzdo._raiz==elemento:\n",
    "                        \n",
    "                         padre._arbolIzdo=self.hijoUnico()\n",
    "                    else:\n",
    "                       \n",
    "                        padre._arbolDcho=self.hijoUnico()\n",
    "                    \n",
    "                else:\n",
    "                    \n",
    "                    self.eliminarRaizConDosHijos()\n",
    "            elif self._raiz>elemento:\n",
    "                self._arbolIzdo.eliminarElem(elemento,self)\n",
    "            else:\n",
    "                self._arbolDcho.eliminarElem(elemento,self)\n"
   ]
  },
  {
   "cell_type": "markdown",
   "id": "documented-weekend",
   "metadata": {},
   "source": [
    "La implementación de esta función debe contemplar varias situaciones y se  necesita conocer el padre del nodo que se va a eliminar para poder \"descolgarlo del árbol\".\n",
    "1. Si el nodo no tiene hijos simplemente se pone a None el subarbol del padre del que  cuelga.\n",
    "2. Si  el nodo tiene solo un hijo, se obtiene el hijo único y el padre apuntará al hijo único.\n",
    "3. Si el nodo tiene dos hijos se usará la función definida para ello."
   ]
  },
  {
   "cell_type": "markdown",
   "id": "inner-welsh",
   "metadata": {},
   "source": [
    "----------------------------------------------------------------------------------------------------------------------"
   ]
  },
  {
   "cell_type": "markdown",
   "id": "natural-guide",
   "metadata": {},
   "source": [
    "<b>Se probará la clase completa</b>"
   ]
  },
  {
   "cell_type": "markdown",
   "id": "hybrid-contest",
   "metadata": {},
   "source": [
    "<h3>Clase ArbolBinarioOrdenado</h3>"
   ]
  },
  {
   "cell_type": "code",
   "execution_count": 29,
   "id": "vanilla-somalia",
   "metadata": {},
   "outputs": [
    {
     "name": "stdout",
     "output_type": "stream",
     "text": [
      "El arbol es:\n",
      "[1, 2, 3, 6, 7, 8, 10]\n",
      "El arbol despues de eliminar un elemento es:\n",
      "[1, 2, 3, 7, 8, 10]\n"
     ]
    }
   ],
   "source": [
    "class ArbolBinarioOrdenado:\n",
    "    \n",
    "    def __init__(self):\n",
    "        \"\"\"constructor, los atributos no son privados\"\"\"\n",
    "        self._raiz=None\n",
    "        self._arbolIzdo=None\n",
    "        self._arbolDcho=None\n",
    "        \n",
    "        \n",
    "    def raiz(self):\n",
    "        \"\"\"Operacción de consulta: funcion que devuelve la raiz\"\"\"\n",
    "        return self._raiz\n",
    "    \n",
    "   \n",
    "    def arbolIzdo(self):\n",
    "        \"\"\"Operación de consulta: devuelve el subarbol izquierdo\"\"\"\n",
    "        return self._arbolIzdo\n",
    "    \n",
    "    def arbolDcho(self):\n",
    "        \"\"\"Operación de consulta: devuelve el subarbol derecho\"\"\"\n",
    "        return self._arbolDcho   \n",
    "    \n",
    "    def estaVacio(self):\n",
    "        \"\"\"Operación de consulta: devuelve el subarbol derecho\"\"\"\n",
    "        return self._raiz==None\n",
    "    \n",
    "    def insertarElem(self,elemento):\n",
    "        \"\"\"Operación de inserción, se inserta el elemento  de forma ordenada\"\"\"\n",
    "        if self.estaVacio():\n",
    "            self._raiz=elemento\n",
    "            self._arbolIzdo=ArbolBinarioOrdenado()\n",
    "            self._arbolDcho=ArbolBinarioOrdenado()\n",
    "        elif elemento<=self._raiz:\n",
    "            self._arbolIzdo.insertarElem(elemento)\n",
    "        elif elemento>self._raiz:\n",
    "            self._arbolDcho.insertarElem(elemento)\n",
    "        else:\n",
    "            None\n",
    "            \n",
    "    def tieneElemento(self,elemento):\n",
    "        \"\"\"Operación de consulta: Comprueba si existe un  elemento en el árbol\"\"\"\n",
    "        if self.estaVacio():\n",
    "            return False\n",
    "        elif self._raiz==elemento:\n",
    "            return True\n",
    "        elif elemento<self._raiz:\n",
    "            return self._arbolIzdo.tieneElemento(elemento)\n",
    "        else:\n",
    "            return self._arbolDcho.tieneElemento(elemento)\n",
    "        \n",
    "    def numElementos(self):\n",
    "        \"\"\"Operación de consulta: Devuelve el númerro de elementos que hay en el árbol\"\"\"\n",
    "        if self.estaVacio():\n",
    "            return 0\n",
    "        else:\n",
    "            return 1+self._arbolIzdo.numElementos()+self._arbolDcho.numElementos()\n",
    "               \n",
    "    def eliminarArbol(self):\n",
    "        \"\"\"Operación de eliminación\"\"\"\n",
    "        if not self.estaVacio():\n",
    "            self._arbolIzdo.eliminarArbol()\n",
    "            self._arbolDcho.eliminarArbol()\n",
    "            self._raiz=None\n",
    "               \n",
    "            \n",
    "            \n",
    "    def inOrden(self):\n",
    "        \"\"\"Recorrido en inorden, hijo izdo, raiz, hijo derecho\"\"\"\n",
    "        l=[]\n",
    "        if not self._arbolIzdo.estaVacio():\n",
    "            l+=self._arbolIzdo.inOrden()\n",
    "        l.append(self._raiz)\n",
    "        if not self._arbolDcho.estaVacio():\n",
    "            l+=self._arbolDcho.inOrden()\n",
    "            \n",
    "        return l\n",
    "    \n",
    "    \n",
    "    def numHijos(self):\n",
    "        if not self._arbolIzdo.estaVacio() and not self._arbolDcho.estaVacio():\n",
    "            return 2\n",
    "        else:\n",
    "            return 1\n",
    "        \n",
    "    \n",
    "    def noTieneHijos(self):\n",
    "        \"\"\"Comprueba si no  tiene hijos\"\"\"\n",
    "        return self._arbolIzdo.estaVacio() and self._arbolDcho.estaVacio()\n",
    "\n",
    "    \n",
    "    def hijoUnico(self):\n",
    "        \"\"\"Devuelve el hijo único de un nodo que sólo tiene un hijo\"\"\"\n",
    "        return self._arbolIzdo if self._arbolDcho.estaVacio() else self._arbolDcho\n",
    "    \n",
    "    \n",
    "    def obtenerMasIzda(self,padre):\n",
    "        \"\"\"Obtiene el hijo más a la izquierda de un nodo\"\"\"\n",
    "        \n",
    "        if not self._arbolIzdo.estaVacio():\n",
    "            \n",
    "            return self._arbolIzdo.obtenerMasIzda(self._arbolIzdo)\n",
    "\n",
    "        return [self,padre]\n",
    "    \n",
    "    \n",
    "    def eliminarRaizConDosHijos(self):\n",
    "        \"\"\"Elimina un nodo con  dos hijos\"\"\"\n",
    "       \n",
    "        aux=self._arbolDcho.obtenerMasIzda(self)\n",
    "       \n",
    "        \n",
    "        if not aux[0].estaVacio():\n",
    "            \n",
    "            self._raiz=aux[0]._raiz\n",
    "            \n",
    "            aux[0].eliminarElem(aux[0]._raiz,aux[1])\n",
    "            \n",
    "    \n",
    "    def eliminarElem(self,elemento,padre=None):\n",
    "        \"\"\"Funcion que elimina  un elemento de un árbol\"\"\"\n",
    "        if not self.estaVacio():\n",
    "            \n",
    "            if self._raiz==elemento:\n",
    "              \n",
    "                if self.noTieneHijos():\n",
    "                   \n",
    "                    if padre==None:\n",
    "                        self._raiz=None\n",
    "                    elif  padre._arbolIzdo._raiz==elemento:\n",
    "                        padre._arbolIzdo._raiz=None\n",
    "                    else:\n",
    "                        padre._arbolDcho._raiz=None\n",
    "                elif self.numHijos()==1:\n",
    "                     \n",
    "                     \n",
    "                    if padre._arbolIzdo._raiz==elemento:\n",
    "                        \n",
    "                         padre._arbolIzdo=self.hijoUnico()\n",
    "                    else:\n",
    "                       \n",
    "                        padre._arbolDcho=self.hijoUnico()\n",
    "                    \n",
    "                else:\n",
    "                    \n",
    "                    self.eliminarRaizConDosHijos()\n",
    "            elif self._raiz>elemento:\n",
    "                self._arbolIzdo.eliminarElem(elemento,self)\n",
    "            else:\n",
    "                self._arbolDcho.eliminarElem(elemento,self)\n",
    "                \n",
    "arbolbo=ArbolBinarioOrdenado()\n",
    "arbolbo.insertarElem(2)\n",
    "arbolbo.insertarElem(3)\n",
    "arbolbo.insertarElem(7)\n",
    "arbolbo.insertarElem(1)\n",
    "arbolbo.insertarElem(8)\n",
    "arbolbo.insertarElem(10)\n",
    "arbolbo.insertarElem(6)\n",
    "print(\"El arbol es:\")\n",
    "print(arbolbo.inOrden())\n",
    "\n",
    "arbolbo.eliminarElem(6)\n",
    "print(\"El arbol despues de eliminar un elemento es:\")\n",
    "print(arbolbo.inOrden())"
   ]
  }
 ],
 "metadata": {
  "kernelspec": {
   "display_name": "Python 3",
   "language": "python",
   "name": "python3"
  },
  "language_info": {
   "codemirror_mode": {
    "name": "ipython",
    "version": 3
   },
   "file_extension": ".py",
   "mimetype": "text/x-python",
   "name": "python",
   "nbconvert_exporter": "python",
   "pygments_lexer": "ipython3",
   "version": "3.8.3"
  }
 },
 "nbformat": 4,
 "nbformat_minor": 5
}
